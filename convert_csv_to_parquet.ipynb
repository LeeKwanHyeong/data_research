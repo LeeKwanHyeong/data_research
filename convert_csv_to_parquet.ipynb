{
 "cells": [
  {
   "metadata": {},
   "cell_type": "markdown",
   "source": "# Convert CSV to Parquet",
   "id": "8a77807f92f26ee"
  },
  {
   "metadata": {
    "ExecuteTime": {
     "end_time": "2025-06-29T08:23:39.950521Z",
     "start_time": "2025-06-29T08:23:39.087729Z"
    }
   },
   "cell_type": "code",
   "source": [
    "import polars as pl\n",
    "from_path = 'D:/data/dsio'\n",
    "to_path = '/modeling_module/data'\n",
    "\n",
    "(\n",
    "    pl.scan_csv(f'{from_path}/tb_dyn_fcst_dmnd.csv'\n",
    "                , has_header=True\n",
    "                , infer_schema_length = 100_000\n",
    "                , dtypes = {'CONT_AMT': pl.Float64})\n",
    " .collect().write_parquet(f\"{to_path}/tb_dyn_fcst_dmnd.parquet\")\n",
    ")"
   ],
   "id": "fbc121e30a2defb3",
   "outputs": [],
   "execution_count": 10
  },
  {
   "metadata": {
    "ExecuteTime": {
     "end_time": "2025-06-29T08:26:29.741102Z",
     "start_time": "2025-06-29T08:26:28.426598Z"
    }
   },
   "cell_type": "code",
   "source": [
    "(\n",
    "    pl.scan_csv(f'{from_path}/tb_dyn_fcst_dmnd_sellout.csv'\n",
    "                , has_header = True\n",
    "                , infer_schema_length = 100_000\n",
    "                , dtypes = {'CONT_AMT': pl.Float64})\n",
    "    .collect().write_parquet(f\"{to_path}/tb_dyn_fcst_dmnd_sellout.parquet\")\n",
    ")"
   ],
   "id": "ecd4607e2e999725",
   "outputs": [],
   "execution_count": 12
  },
  {
   "metadata": {
    "ExecuteTime": {
     "end_time": "2025-06-29T08:27:22.716964Z",
     "start_time": "2025-06-29T08:27:22.376380Z"
    }
   },
   "cell_type": "code",
   "source": [
    "(\n",
    "    pl.scan_csv(f'{from_path}/tb_bas_oper_part_mst.csv'\n",
    "                , has_header = True\n",
    "                , infer_schema_length = 100_000\n",
    "                , dtypes = {'CONT_AMT': pl.Float64})\n",
    "    .collect().write_parquet(f\"{to_path}/tb_bas_oper_part_mst.parquet\")\n",
    ")"
   ],
   "id": "12780ac87e6fbd",
   "outputs": [],
   "execution_count": 13
  },
  {
   "metadata": {
    "ExecuteTime": {
     "end_time": "2025-07-28T13:07:17.353302Z",
     "start_time": "2025-07-28T13:07:17.325039Z"
    }
   },
   "cell_type": "code",
   "source": [
    "import torch\n",
    "\n",
    "print(torch.cuda.is_available())\n",
    "print(torch.cuda.device_count())\n",
    "print(torch.version.cuda)\n",
    "print(torch.__version__)\n",
    "print(torch.cuda.get_device_name(0))\n",
    "print(torch.__version__)"
   ],
   "id": "c5b98c2474363ebb",
   "outputs": [
    {
     "name": "stdout",
     "output_type": "stream",
     "text": [
      "False\n",
      "0\n",
      "None\n",
      "2.6.0+cpu\n"
     ]
    },
    {
     "ename": "AssertionError",
     "evalue": "Torch not compiled with CUDA enabled",
     "output_type": "error",
     "traceback": [
      "\u001B[31m---------------------------------------------------------------------------\u001B[39m",
      "\u001B[31mAssertionError\u001B[39m                            Traceback (most recent call last)",
      "\u001B[36mCell\u001B[39m\u001B[36m \u001B[39m\u001B[32mIn[4]\u001B[39m\u001B[32m, line 7\u001B[39m\n\u001B[32m      5\u001B[39m \u001B[38;5;28mprint\u001B[39m(torch.version.cuda)\n\u001B[32m      6\u001B[39m \u001B[38;5;28mprint\u001B[39m(torch.__version__)\n\u001B[32m----> \u001B[39m\u001B[32m7\u001B[39m \u001B[38;5;28mprint\u001B[39m(\u001B[43mtorch\u001B[49m\u001B[43m.\u001B[49m\u001B[43mcuda\u001B[49m\u001B[43m.\u001B[49m\u001B[43mget_device_name\u001B[49m\u001B[43m(\u001B[49m\u001B[32;43m0\u001B[39;49m\u001B[43m)\u001B[49m)\n\u001B[32m      8\u001B[39m \u001B[38;5;28mprint\u001B[39m(torch.__version__)\n",
      "\u001B[36mFile \u001B[39m\u001B[32m~\\python\\py312\\Lib\\site-packages\\torch\\cuda\\__init__.py:491\u001B[39m, in \u001B[36mget_device_name\u001B[39m\u001B[34m(device)\u001B[39m\n\u001B[32m    479\u001B[39m \u001B[38;5;28;01mdef\u001B[39;00m\u001B[38;5;250m \u001B[39m\u001B[34mget_device_name\u001B[39m(device: Optional[_device_t] = \u001B[38;5;28;01mNone\u001B[39;00m) -> \u001B[38;5;28mstr\u001B[39m:\n\u001B[32m    480\u001B[39m \u001B[38;5;250m    \u001B[39m\u001B[33mr\u001B[39m\u001B[33;03m\"\"\"Get the name of a device.\u001B[39;00m\n\u001B[32m    481\u001B[39m \n\u001B[32m    482\u001B[39m \u001B[33;03m    Args:\u001B[39;00m\n\u001B[32m   (...)\u001B[39m\u001B[32m    489\u001B[39m \u001B[33;03m        str: the name of the device\u001B[39;00m\n\u001B[32m    490\u001B[39m \u001B[33;03m    \"\"\"\u001B[39;00m\n\u001B[32m--> \u001B[39m\u001B[32m491\u001B[39m     \u001B[38;5;28;01mreturn\u001B[39;00m \u001B[43mget_device_properties\u001B[49m\u001B[43m(\u001B[49m\u001B[43mdevice\u001B[49m\u001B[43m)\u001B[49m.name\n",
      "\u001B[36mFile \u001B[39m\u001B[32m~\\python\\py312\\Lib\\site-packages\\torch\\cuda\\__init__.py:523\u001B[39m, in \u001B[36mget_device_properties\u001B[39m\u001B[34m(device)\u001B[39m\n\u001B[32m    511\u001B[39m \u001B[38;5;28;01mdef\u001B[39;00m\u001B[38;5;250m \u001B[39m\u001B[34mget_device_properties\u001B[39m(device: Optional[_device_t] = \u001B[38;5;28;01mNone\u001B[39;00m) -> _CudaDeviceProperties:\n\u001B[32m    512\u001B[39m \u001B[38;5;250m    \u001B[39m\u001B[33mr\u001B[39m\u001B[33;03m\"\"\"Get the properties of a device.\u001B[39;00m\n\u001B[32m    513\u001B[39m \n\u001B[32m    514\u001B[39m \u001B[33;03m    Args:\u001B[39;00m\n\u001B[32m   (...)\u001B[39m\u001B[32m    521\u001B[39m \u001B[33;03m        _CudaDeviceProperties: the properties of the device\u001B[39;00m\n\u001B[32m    522\u001B[39m \u001B[33;03m    \"\"\"\u001B[39;00m\n\u001B[32m--> \u001B[39m\u001B[32m523\u001B[39m     \u001B[43m_lazy_init\u001B[49m\u001B[43m(\u001B[49m\u001B[43m)\u001B[49m  \u001B[38;5;66;03m# will define _get_device_properties\u001B[39;00m\n\u001B[32m    524\u001B[39m     device = _get_device_index(device, optional=\u001B[38;5;28;01mTrue\u001B[39;00m)\n\u001B[32m    525\u001B[39m     \u001B[38;5;28;01mif\u001B[39;00m device < \u001B[32m0\u001B[39m \u001B[38;5;129;01mor\u001B[39;00m device >= device_count():\n",
      "\u001B[36mFile \u001B[39m\u001B[32m~\\python\\py312\\Lib\\site-packages\\torch\\cuda\\__init__.py:310\u001B[39m, in \u001B[36m_lazy_init\u001B[39m\u001B[34m()\u001B[39m\n\u001B[32m    305\u001B[39m     \u001B[38;5;28;01mraise\u001B[39;00m \u001B[38;5;167;01mRuntimeError\u001B[39;00m(\n\u001B[32m    306\u001B[39m         \u001B[33m\"\u001B[39m\u001B[33mCannot re-initialize CUDA in forked subprocess. To use CUDA with \u001B[39m\u001B[33m\"\u001B[39m\n\u001B[32m    307\u001B[39m         \u001B[33m\"\u001B[39m\u001B[33mmultiprocessing, you must use the \u001B[39m\u001B[33m'\u001B[39m\u001B[33mspawn\u001B[39m\u001B[33m'\u001B[39m\u001B[33m start method\u001B[39m\u001B[33m\"\u001B[39m\n\u001B[32m    308\u001B[39m     )\n\u001B[32m    309\u001B[39m \u001B[38;5;28;01mif\u001B[39;00m \u001B[38;5;129;01mnot\u001B[39;00m \u001B[38;5;28mhasattr\u001B[39m(torch._C, \u001B[33m\"\u001B[39m\u001B[33m_cuda_getDeviceCount\u001B[39m\u001B[33m\"\u001B[39m):\n\u001B[32m--> \u001B[39m\u001B[32m310\u001B[39m     \u001B[38;5;28;01mraise\u001B[39;00m \u001B[38;5;167;01mAssertionError\u001B[39;00m(\u001B[33m\"\u001B[39m\u001B[33mTorch not compiled with CUDA enabled\u001B[39m\u001B[33m\"\u001B[39m)\n\u001B[32m    311\u001B[39m \u001B[38;5;28;01mif\u001B[39;00m _cudart \u001B[38;5;129;01mis\u001B[39;00m \u001B[38;5;28;01mNone\u001B[39;00m:\n\u001B[32m    312\u001B[39m     \u001B[38;5;28;01mraise\u001B[39;00m \u001B[38;5;167;01mAssertionError\u001B[39;00m(\n\u001B[32m    313\u001B[39m         \u001B[33m\"\u001B[39m\u001B[33mlibcudart functions unavailable. It looks like you have a broken build?\u001B[39m\u001B[33m\"\u001B[39m\n\u001B[32m    314\u001B[39m     )\n",
      "\u001B[31mAssertionError\u001B[39m: Torch not compiled with CUDA enabled"
     ]
    }
   ],
   "execution_count": 4
  },
  {
   "metadata": {
    "ExecuteTime": {
     "end_time": "2025-07-28T13:05:49.813288Z",
     "start_time": "2025-07-28T13:05:49.810287Z"
    }
   },
   "cell_type": "code",
   "source": [
    "import sys\n",
    "print(sys.executable)"
   ],
   "id": "756acade10529c3d",
   "outputs": [
    {
     "name": "stdout",
     "output_type": "stream",
     "text": [
      "C:\\Users\\USER\\python\\py312\\python.exe\n"
     ]
    }
   ],
   "execution_count": 3
  },
  {
   "metadata": {
    "ExecuteTime": {
     "end_time": "2025-08-13T13:43:58.385464Z",
     "start_time": "2025-08-13T13:43:57.458906Z"
    }
   },
   "cell_type": "code",
   "source": "import polars as pl",
   "id": "2e0a0d4537c75aed",
   "outputs": [],
   "execution_count": 1
  },
  {
   "metadata": {
    "ExecuteTime": {
     "end_time": "2025-08-13T13:50:56.550041Z",
     "start_time": "2025-08-13T13:50:56.545296Z"
    }
   },
   "cell_type": "code",
   "source": [
    "import polars as pl\n",
    "\n",
    "# 모든 값의 dtype은 Int64이며, NULL 포함\n",
    "df_bad = pl.DataFrame({\n",
    "    \"oper_part_no\":      [\"A\",   \"B\",   \"A\",     \"B\",   \"A\",   \"B\"],\n",
    "    \"order_yyyyww\":      [202240, 202035, 202241, 202036, 202242, 202037],\n",
    "    \"wty_start_yyyyww\":  [None,  202030, 202211,  None,  None,  None],  # 모두 Int64 또는 Null\n",
    "}, schema={\n",
    "    \"oper_part_no\": pl.Utf8,\n",
    "    \"order_yyyyww\": pl.Int64,\n",
    "    \"wty_start_yyyyww\": pl.Int64,   # ← dtype 고정(Int64)\n",
    "})\n",
    "\n",
    "print(\"원본\")\n",
    "print(df_bad)\n",
    "\n",
    "# (문제) 그룹/정렬 없이 바로 backward 채움\n",
    "df_wrong = df_bad.with_columns(\n",
    "    pl.col(\"wty_start_yyyyww\")\n",
    "      .fill_null(strategy=\"backward\")\n",
    "      .alias(\"wty_filled\")\n",
    ")\n",
    "\n",
    "print(\"\\n그룹/정렬 없이 backward 채움 (문제 재현)\")\n",
    "print(df_wrong)"
   ],
   "id": "98cfae9f4b0c9f98",
   "outputs": [
    {
     "name": "stdout",
     "output_type": "stream",
     "text": [
      "원본\n",
      "shape: (6, 3)\n",
      "┌──────────────┬──────────────┬──────────────────┐\n",
      "│ oper_part_no ┆ order_yyyyww ┆ wty_start_yyyyww │\n",
      "│ ---          ┆ ---          ┆ ---              │\n",
      "│ str          ┆ i64          ┆ i64              │\n",
      "╞══════════════╪══════════════╪══════════════════╡\n",
      "│ A            ┆ 202240       ┆ null             │\n",
      "│ B            ┆ 202035       ┆ 202030           │\n",
      "│ A            ┆ 202241       ┆ 202211           │\n",
      "│ B            ┆ 202036       ┆ null             │\n",
      "│ A            ┆ 202242       ┆ null             │\n",
      "│ B            ┆ 202037       ┆ null             │\n",
      "└──────────────┴──────────────┴──────────────────┘\n",
      "\n",
      "그룹/정렬 없이 backward 채움 (문제 재현)\n",
      "shape: (6, 4)\n",
      "┌──────────────┬──────────────┬──────────────────┬────────────┐\n",
      "│ oper_part_no ┆ order_yyyyww ┆ wty_start_yyyyww ┆ wty_filled │\n",
      "│ ---          ┆ ---          ┆ ---              ┆ ---        │\n",
      "│ str          ┆ i64          ┆ i64              ┆ i64        │\n",
      "╞══════════════╪══════════════╪══════════════════╪════════════╡\n",
      "│ A            ┆ 202240       ┆ null             ┆ 202030     │\n",
      "│ B            ┆ 202035       ┆ 202030           ┆ 202030     │\n",
      "│ A            ┆ 202241       ┆ 202211           ┆ 202211     │\n",
      "│ B            ┆ 202036       ┆ null             ┆ null       │\n",
      "│ A            ┆ 202242       ┆ null             ┆ null       │\n",
      "│ B            ┆ 202037       ┆ null             ┆ null       │\n",
      "└──────────────┴──────────────┴──────────────────┴────────────┘\n"
     ]
    }
   ],
   "execution_count": 4
  },
  {
   "metadata": {
    "ExecuteTime": {
     "end_time": "2025-08-13T13:51:41.411582Z",
     "start_time": "2025-08-13T13:51:41.406158Z"
    }
   },
   "cell_type": "code",
   "source": [
    "df_fixed = (\n",
    "    df_bad\n",
    "    .sort([\"oper_part_no\", \"order_yyyyww\"])   # 파트별 시간 정렬\n",
    "    .with_columns(\n",
    "        pl.col(\"wty_start_yyyyww\")\n",
    "          .fill_null(strategy=\"backward\")\n",
    "          .over(\"oper_part_no\")               # ← 파트별로만 채움(타 파트 유입 방지)\n",
    "          .alias(\"wty_filled_bwd\")\n",
    "    )\n",
    ")\n",
    "\n",
    "print(\"\\n해결1: 정렬 + over('oper_part_no')로 backward 채움\")\n",
    "print(df_fixed)"
   ],
   "id": "22692ecc3cd32e9",
   "outputs": [
    {
     "name": "stdout",
     "output_type": "stream",
     "text": [
      "\n",
      "해결1: 정렬 + over('oper_part_no')로 backward 채움\n",
      "shape: (6, 4)\n",
      "┌──────────────┬──────────────┬──────────────────┬────────────────┐\n",
      "│ oper_part_no ┆ order_yyyyww ┆ wty_start_yyyyww ┆ wty_filled_bwd │\n",
      "│ ---          ┆ ---          ┆ ---              ┆ ---            │\n",
      "│ str          ┆ i64          ┆ i64              ┆ i64            │\n",
      "╞══════════════╪══════════════╪══════════════════╪════════════════╡\n",
      "│ A            ┆ 202240       ┆ null             ┆ 202211         │\n",
      "│ A            ┆ 202241       ┆ 202211           ┆ 202211         │\n",
      "│ A            ┆ 202242       ┆ null             ┆ null           │\n",
      "│ B            ┆ 202035       ┆ 202030           ┆ 202030         │\n",
      "│ B            ┆ 202036       ┆ null             ┆ null           │\n",
      "│ B            ┆ 202037       ┆ null             ┆ null           │\n",
      "└──────────────┴──────────────┴──────────────────┴────────────────┘\n"
     ]
    }
   ],
   "execution_count": 5
  },
  {
   "metadata": {},
   "cell_type": "code",
   "outputs": [],
   "execution_count": null,
   "source": "",
   "id": "4ef83c083f1fec4"
  }
 ],
 "metadata": {
  "kernelspec": {
   "display_name": "Python 3",
   "language": "python",
   "name": "python3"
  },
  "language_info": {
   "codemirror_mode": {
    "name": "ipython",
    "version": 2
   },
   "file_extension": ".py",
   "mimetype": "text/x-python",
   "name": "python",
   "nbconvert_exporter": "python",
   "pygments_lexer": "ipython2",
   "version": "2.7.6"
  }
 },
 "nbformat": 4,
 "nbformat_minor": 5
}
