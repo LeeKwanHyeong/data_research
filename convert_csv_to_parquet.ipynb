{
 "cells": [
  {
   "metadata": {},
   "cell_type": "markdown",
   "source": "# Convert CSV to Parquet",
   "id": "8a77807f92f26ee"
  },
  {
   "metadata": {
    "ExecuteTime": {
     "end_time": "2025-06-29T08:23:39.950521Z",
     "start_time": "2025-06-29T08:23:39.087729Z"
    }
   },
   "cell_type": "code",
   "source": [
    "import polars as pl\n",
    "from_path = 'D:/data/dsio'\n",
    "to_path = 'C:/Users/USER/PycharmProjects/research/data'\n",
    "\n",
    "(\n",
    "    pl.scan_csv(f'{from_path}/tb_dyn_fcst_dmnd.csv'\n",
    "                , has_header=True\n",
    "                , infer_schema_length = 100_000\n",
    "                , dtypes = {'CONT_AMT': pl.Float64})\n",
    " .collect().write_parquet(f\"{to_path}/tb_dyn_fcst_dmnd.parquet\")\n",
    ")"
   ],
   "id": "fbc121e30a2defb3",
   "outputs": [],
   "execution_count": 10
  },
  {
   "metadata": {
    "ExecuteTime": {
     "end_time": "2025-06-29T08:26:29.741102Z",
     "start_time": "2025-06-29T08:26:28.426598Z"
    }
   },
   "cell_type": "code",
   "source": [
    "(\n",
    "    pl.scan_csv(f'{from_path}/tb_dyn_fcst_dmnd_sellout.csv'\n",
    "                , has_header = True\n",
    "                , infer_schema_length = 100_000\n",
    "                , dtypes = {'CONT_AMT': pl.Float64})\n",
    "    .collect().write_parquet(f\"{to_path}/tb_dyn_fcst_dmnd_sellout.parquet\")\n",
    ")"
   ],
   "id": "ecd4607e2e999725",
   "outputs": [],
   "execution_count": 12
  },
  {
   "metadata": {
    "ExecuteTime": {
     "end_time": "2025-06-29T08:27:22.716964Z",
     "start_time": "2025-06-29T08:27:22.376380Z"
    }
   },
   "cell_type": "code",
   "source": [
    "(\n",
    "    pl.scan_csv(f'{from_path}/tb_bas_oper_part_mst.csv'\n",
    "                , has_header = True\n",
    "                , infer_schema_length = 100_000\n",
    "                , dtypes = {'CONT_AMT': pl.Float64})\n",
    "    .collect().write_parquet(f\"{to_path}/tb_bas_oper_part_mst.parquet\")\n",
    ")"
   ],
   "id": "12780ac87e6fbd",
   "outputs": [],
   "execution_count": 13
  },
  {
   "metadata": {},
   "cell_type": "code",
   "outputs": [],
   "execution_count": null,
   "source": "",
   "id": "c5b98c2474363ebb"
  }
 ],
 "metadata": {
  "kernelspec": {
   "display_name": "Python 3",
   "language": "python",
   "name": "python3"
  },
  "language_info": {
   "codemirror_mode": {
    "name": "ipython",
    "version": 2
   },
   "file_extension": ".py",
   "mimetype": "text/x-python",
   "name": "python",
   "nbconvert_exporter": "python",
   "pygments_lexer": "ipython2",
   "version": "2.7.6"
  }
 },
 "nbformat": 4,
 "nbformat_minor": 5
}
