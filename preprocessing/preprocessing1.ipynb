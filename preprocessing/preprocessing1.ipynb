{
 "cells": [
  {
   "cell_type": "code",
   "id": "initial_id",
   "metadata": {
    "collapsed": true,
    "ExecuteTime": {
     "end_time": "2025-07-28T01:00:06.548066Z",
     "start_time": "2025-07-28T01:00:06.048485Z"
    }
   },
   "source": [
    "import polars as pl\n",
    "tb_bas_oper_part_mst = (pl.read_parquet('../data/tb_bas_oper_part_mst.parquet')\n",
    "                        .select(['OPER_PART_NO', 'OPER_PART_NM'])\n",
    "                        .rename({'OPER_PART_NO': 'oper_part_no', 'OPER_PART_NM': 'oper_part_nm'}))\n",
    "tb_dyn_fcst_demand = (pl.read_parquet('../data/tb_dyn_fcst_dmnd.parquet')\n",
    "                      .select(['PART_NO', 'DMND_QTY', 'DMND_DT', 'OPER_PART_NO'])\n",
    "                      .rename({'PART_NO': 'part_no', 'OPER_PART_NO': 'oper_part_no', 'DMND_DT': 'demand_dt', 'DMND_QTY': 'demand_qty'})\n",
    "                      .select(['part_no', 'oper_part_no', 'demand_dt', 'demand_qty']))\n",
    "tb_dyn_fcst_demand_sellout = (pl.read_parquet('../data/tb_dyn_fcst_dmnd_sellout.parquet')\n",
    "                              .select(['PART_NO', 'DMND_QTY', 'DMND_DT', 'OPER_PART_NO'])\n",
    "                              .rename({'PART_NO': 'part_no', 'OPER_PART_NO': 'oper_part_no', 'DMND_DT': 'demand_dt', 'DMND_QTY': 'demand_qty'})\n",
    "                              .select(['part_no', 'oper_part_no', 'demand_dt', 'demand_qty']))"
   ],
   "outputs": [],
   "execution_count": 3
  },
  {
   "metadata": {},
   "cell_type": "markdown",
   "source": [
    "# Unique Value Check\n",
    "Data를 확인해보니, TB_DYN_FCST_DEMAND_SELLOUT 과 TB_DYN_FCST_DEMAND는 동일한 테이블로 보임..\n"
   ],
   "id": "6f2de0c81e6a40b9"
  },
  {
   "metadata": {
    "ExecuteTime": {
     "end_time": "2025-07-28T01:00:11.417865Z",
     "start_time": "2025-07-28T01:00:11.292363Z"
    }
   },
   "cell_type": "code",
   "source": [
    "# oper_part_mst unique part\n",
    "print(tb_bas_oper_part_mst.select(pl.col('oper_part_no')).n_unique())\n",
    "\n",
    "# dyn_fcst_demand unique part/oper_part\n",
    "print(tb_dyn_fcst_demand.select(pl.col('part_no')).n_unique())\n",
    "print(tb_dyn_fcst_demand.select(pl.col('oper_part_no')).n_unique())\n",
    "\n",
    "# dyn_fcst_demand_sellout unique part/oper_part\n",
    "print(tb_dyn_fcst_demand_sellout.select(pl.col('part_no')).n_unique())\n",
    "print(tb_dyn_fcst_demand_sellout.select(pl.col('oper_part_no')).n_unique())"
   ],
   "id": "2aec641007b81296",
   "outputs": [
    {
     "name": "stdout",
     "output_type": "stream",
     "text": [
      "97530\n",
      "50233\n",
      "43896\n",
      "50233\n",
      "43896\n"
     ]
    }
   ],
   "execution_count": 4
  },
  {
   "metadata": {
    "ExecuteTime": {
     "end_time": "2025-07-28T01:00:14.187897Z",
     "start_time": "2025-07-28T01:00:14.037347Z"
    }
   },
   "cell_type": "code",
   "source": [
    "tb_bas_oper_part_mst.write_parquet('../data/parquets/oper_part_mst.parquet')\n",
    "tb_dyn_fcst_demand.write_parquet('../data/parquets/dyn_demand.parquet')"
   ],
   "id": "c42b2f110a1ea1a4",
   "outputs": [],
   "execution_count": 5
  },
  {
   "metadata": {
    "ExecuteTime": {
     "end_time": "2025-07-28T01:00:44.301807Z",
     "start_time": "2025-07-28T01:00:44.291381Z"
    }
   },
   "cell_type": "code",
   "source": [
    "import datetime\n",
    "from datetime import datetime\n",
    "\n",
    "dyn_fcst_demand = tb_dyn_fcst_demand.with_columns([\n",
    "    pl.col('demand_dt').cast(pl.Utf8).cast()\n",
    "])"
   ],
   "id": "99d9184d2ed28234",
   "outputs": [
    {
     "data": {
      "text/plain": [
       "shape: (1_723_020, 4)\n",
       "┌───────────────┬───────────────┬───────────┬────────────┐\n",
       "│ part_no       ┆ oper_part_no  ┆ demand_dt ┆ demand_qty │\n",
       "│ ---           ┆ ---           ┆ ---       ┆ ---        │\n",
       "│ str           ┆ str           ┆ i64       ┆ f64        │\n",
       "╞═══════════════╪═══════════════╪═══════════╪════════════╡\n",
       "│ T4240-71102BB ┆ T4240-71102BB ┆ 20180101  ┆ 3.0        │\n",
       "│ T5210-34402   ┆ T5210-34402   ┆ 20180101  ┆ 1.0        │\n",
       "│ T5210-30081   ┆ T5210-30081   ┆ 20180101  ┆ 1.0        │\n",
       "│ T5210-65661   ┆ T5210-65661   ┆ 20180101  ┆ 1.0        │\n",
       "│ T5210-66472   ┆ T5210-66472   ┆ 20180101  ┆ 1.0        │\n",
       "│ …             ┆ …             ┆ …         ┆ …          │\n",
       "│ U3215-52203   ┆ U3215-52203   ┆ 20240205  ┆ 30.0       │\n",
       "│ T5710-69252   ┆ T5710-69252   ┆ 20240205  ┆ 2.0        │\n",
       "│ DYD1-O07      ┆ DYD1-O07      ┆ 20240205  ┆ 4.0        │\n",
       "│ T2198-69775   ┆ T2198-69775   ┆ 20240205  ┆ 6.0        │\n",
       "│ TC26-0416B    ┆ TC26-0416B    ┆ 20240205  ┆ 2.0        │\n",
       "└───────────────┴───────────────┴───────────┴────────────┘"
      ],
      "text/html": [
       "<div><style>\n",
       ".dataframe > thead > tr,\n",
       ".dataframe > tbody > tr {\n",
       "  text-align: right;\n",
       "  white-space: pre-wrap;\n",
       "}\n",
       "</style>\n",
       "<small>shape: (1_723_020, 4)</small><table border=\"1\" class=\"dataframe\"><thead><tr><th>part_no</th><th>oper_part_no</th><th>demand_dt</th><th>demand_qty</th></tr><tr><td>str</td><td>str</td><td>i64</td><td>f64</td></tr></thead><tbody><tr><td>&quot;T4240-71102BB&quot;</td><td>&quot;T4240-71102BB&quot;</td><td>20180101</td><td>3.0</td></tr><tr><td>&quot;T5210-34402&quot;</td><td>&quot;T5210-34402&quot;</td><td>20180101</td><td>1.0</td></tr><tr><td>&quot;T5210-30081&quot;</td><td>&quot;T5210-30081&quot;</td><td>20180101</td><td>1.0</td></tr><tr><td>&quot;T5210-65661&quot;</td><td>&quot;T5210-65661&quot;</td><td>20180101</td><td>1.0</td></tr><tr><td>&quot;T5210-66472&quot;</td><td>&quot;T5210-66472&quot;</td><td>20180101</td><td>1.0</td></tr><tr><td>&hellip;</td><td>&hellip;</td><td>&hellip;</td><td>&hellip;</td></tr><tr><td>&quot;U3215-52203&quot;</td><td>&quot;U3215-52203&quot;</td><td>20240205</td><td>30.0</td></tr><tr><td>&quot;T5710-69252&quot;</td><td>&quot;T5710-69252&quot;</td><td>20240205</td><td>2.0</td></tr><tr><td>&quot;DYD1-O07&quot;</td><td>&quot;DYD1-O07&quot;</td><td>20240205</td><td>4.0</td></tr><tr><td>&quot;T2198-69775&quot;</td><td>&quot;T2198-69775&quot;</td><td>20240205</td><td>6.0</td></tr><tr><td>&quot;TC26-0416B&quot;</td><td>&quot;TC26-0416B&quot;</td><td>20240205</td><td>2.0</td></tr></tbody></table></div>"
      ]
     },
     "execution_count": 9,
     "metadata": {},
     "output_type": "execute_result"
    }
   ],
   "execution_count": 9
  },
  {
   "metadata": {
    "ExecuteTime": {
     "end_time": "2025-07-28T01:00:16.395058Z",
     "start_time": "2025-07-28T01:00:16.379253Z"
    }
   },
   "cell_type": "code",
   "source": "",
   "id": "15a79578ef5e99c2",
   "outputs": [
    {
     "data": {
      "text/plain": [
       "shape: (1_723_020, 4)\n",
       "┌───────────────┬───────────────┬───────────┬────────────┐\n",
       "│ part_no       ┆ oper_part_no  ┆ demand_dt ┆ demand_qty │\n",
       "│ ---           ┆ ---           ┆ ---       ┆ ---        │\n",
       "│ str           ┆ str           ┆ i64       ┆ f64        │\n",
       "╞═══════════════╪═══════════════╪═══════════╪════════════╡\n",
       "│ T4240-71102BB ┆ T4240-71102BB ┆ 20180101  ┆ 3.0        │\n",
       "│ T5210-34402   ┆ T5210-34402   ┆ 20180101  ┆ 1.0        │\n",
       "│ T5210-30081   ┆ T5210-30081   ┆ 20180101  ┆ 1.0        │\n",
       "│ T5210-65661   ┆ T5210-65661   ┆ 20180101  ┆ 1.0        │\n",
       "│ T5210-66472   ┆ T5210-66472   ┆ 20180101  ┆ 1.0        │\n",
       "│ …             ┆ …             ┆ …         ┆ …          │\n",
       "│ U3215-52203   ┆ U3215-52203   ┆ 20240205  ┆ 30.0       │\n",
       "│ T5710-69252   ┆ T5710-69252   ┆ 20240205  ┆ 2.0        │\n",
       "│ DYD1-O07      ┆ DYD1-O07      ┆ 20240205  ┆ 4.0        │\n",
       "│ T2198-69775   ┆ T2198-69775   ┆ 20240205  ┆ 6.0        │\n",
       "│ TC26-0416B    ┆ TC26-0416B    ┆ 20240205  ┆ 2.0        │\n",
       "└───────────────┴───────────────┴───────────┴────────────┘"
      ],
      "text/html": [
       "<div><style>\n",
       ".dataframe > thead > tr,\n",
       ".dataframe > tbody > tr {\n",
       "  text-align: right;\n",
       "  white-space: pre-wrap;\n",
       "}\n",
       "</style>\n",
       "<small>shape: (1_723_020, 4)</small><table border=\"1\" class=\"dataframe\"><thead><tr><th>part_no</th><th>oper_part_no</th><th>demand_dt</th><th>demand_qty</th></tr><tr><td>str</td><td>str</td><td>i64</td><td>f64</td></tr></thead><tbody><tr><td>&quot;T4240-71102BB&quot;</td><td>&quot;T4240-71102BB&quot;</td><td>20180101</td><td>3.0</td></tr><tr><td>&quot;T5210-34402&quot;</td><td>&quot;T5210-34402&quot;</td><td>20180101</td><td>1.0</td></tr><tr><td>&quot;T5210-30081&quot;</td><td>&quot;T5210-30081&quot;</td><td>20180101</td><td>1.0</td></tr><tr><td>&quot;T5210-65661&quot;</td><td>&quot;T5210-65661&quot;</td><td>20180101</td><td>1.0</td></tr><tr><td>&quot;T5210-66472&quot;</td><td>&quot;T5210-66472&quot;</td><td>20180101</td><td>1.0</td></tr><tr><td>&hellip;</td><td>&hellip;</td><td>&hellip;</td><td>&hellip;</td></tr><tr><td>&quot;U3215-52203&quot;</td><td>&quot;U3215-52203&quot;</td><td>20240205</td><td>30.0</td></tr><tr><td>&quot;T5710-69252&quot;</td><td>&quot;T5710-69252&quot;</td><td>20240205</td><td>2.0</td></tr><tr><td>&quot;DYD1-O07&quot;</td><td>&quot;DYD1-O07&quot;</td><td>20240205</td><td>4.0</td></tr><tr><td>&quot;T2198-69775&quot;</td><td>&quot;T2198-69775&quot;</td><td>20240205</td><td>6.0</td></tr><tr><td>&quot;TC26-0416B&quot;</td><td>&quot;TC26-0416B&quot;</td><td>20240205</td><td>2.0</td></tr></tbody></table></div>"
      ]
     },
     "execution_count": 7,
     "metadata": {},
     "output_type": "execute_result"
    }
   ],
   "execution_count": 7
  },
  {
   "metadata": {
    "ExecuteTime": {
     "end_time": "2025-07-19T07:15:05.629188Z",
     "start_time": "2025-07-19T07:15:05.504356Z"
    }
   },
   "cell_type": "code",
   "source": [
    "import matplotlib.pyplot as plt\n",
    "pl.Config(fmt_float = 'full')\n",
    "\n",
    "tb_dyn_fcst_demand_sellout.with_columns([\n",
    "    pl.col('demand_dt').cast(pl.Utf8).str.strptime(pl.Date, format = '%Y%m%d').alias('demand_dt')\n",
    "])\n",
    "\n",
    "\n",
    "test_part = tb_dyn_fcst_demand_sellout.filter(pl.col('oper_part_no') == \"C7110-15131\").sort(by='demand_dt').to_pandas()\n",
    "\n",
    "plt.figure(figsize = (15, 8))\n",
    "plt.plot(test_part['demand_dt'], test_part['demand_qty'])\n",
    "plt.xlabel('demand_dt')\n",
    "plt.ylabel('demand_qty')\n",
    "plt.show()"
   ],
   "id": "f0e01fa8777c2d6e",
   "outputs": [
    {
     "data": {
      "text/plain": [
       "<Figure size 1500x800 with 1 Axes>"
      ],
      "image/png": "[encoded data removed]"
     },
     "metadata": {},
     "output_type": "display_data"
    }
   ],
   "execution_count": 18
  },
  {
   "metadata": {},
   "cell_type": "code",
   "outputs": [],
   "execution_count": null,
   "source": "",
   "id": "9fcaa88d6ea4e6a5"
  }
 ],
 "metadata": {
  "kernelspec": {
   "display_name": "Python 3",
   "language": "python",
   "name": "python3"
  },
  "language_info": {
   "codemirror_mode": {
    "name": "ipython",
    "version": 2
   },
   "file_extension": ".py",
   "mimetype": "text/x-python",
   "name": "python",
   "nbconvert_exporter": "python",
   "pygments_lexer": "ipython2",
   "version": "2.7.6"
  }
 },
 "nbformat": 4,
 "nbformat_minor": 5
}
