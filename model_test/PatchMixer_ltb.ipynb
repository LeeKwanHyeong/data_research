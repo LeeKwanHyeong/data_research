{
 "cells": [
  {
   "metadata": {},
   "cell_type": "code",
   "source": [
    "import sys\n",
    "\n",
    "import polars as pl\n",
    "from data_loader.TimeSeriesModule import MultiPartDataModule\n",
    "from model_runner.model_configs import PatchMixerConfigMonthly\n",
    "from model_runner.train.patchmixer_train import PatchMixerTrain\n",
    "from models.patchmixer.PatchMixer import *\n",
    "from utils.validation_utils import compute_validation_metrics_for_patchmixer\n",
    "\n",
    "'''\n",
    "pip3 install torch torchvision torchaudio --index-url https://download.pytorch.org/whl/cu128\n",
    "https://developer.nvidia.com/cuda-12-8-0-download-archive\n",
    "'''\n",
    "\n",
    "MAC_DIR = '../data/'\n",
    "WINDOW_DIR = 'C:/Users/USER/PycharmProjects/research/data/'\n",
    "\n",
    "if sys.platform == 'win32':\n",
    "    DIR = WINDOW_DIR\n",
    "    print(torch.cuda.is_available())\n",
    "    print(torch.cuda.device_count())\n",
    "    print(torch.version.cuda)\n",
    "    print(torch.__version__)\n",
    "    print(torch.cuda.get_device_name(0))\n",
    "    print(torch.__version__)\n",
    "else:\n",
    "    DIR = MAC_DIR"
   ],
   "id": "e4eb7ee0153c7b32",
   "outputs": [],
   "execution_count": null
  },
  {
   "metadata": {},
   "cell_type": "markdown",
   "source": "### Data Loader",
   "id": "2b3067b65d931aed"
  },
  {
   "metadata": {},
   "cell_type": "code",
   "source": [
    "target_dyn_demand = pl.read_parquet(DIR + 'target_dyn_demand_monthly.parquet')\n",
    "\n",
    "config = PatchMixerConfigMonthly()\n",
    "\n",
    "data_module = MultiPartDataModule(\n",
    "    df = target_dyn_demand,\n",
    "    config = config,\n",
    "    is_running = False,\n",
    "    batch_size = 128,\n",
    "    val_ratio = 0.2\n",
    ")\n",
    "\n",
    "plan_yyyymm = 202401\n",
    "train_loader = data_module.get_train_loader()\n",
    "val_loader = data_module.get_val_loader()\n",
    "anchor_loader = data_module.get_inference_loader_at_plan(\n",
    "    plan_dt = plan_yyyymm,\n",
    "    parts_filter=None,\n",
    "    fill_missing='ffill'\n",
    ")\n",
    "\n",
    "from utils.helper import collect_indices\n",
    "\n",
    "fp_tr = collect_indices(train_loader)\n",
    "fp_va = collect_indices(val_loader)\n",
    "print(\"fp shapes:\", fp_tr.shape, fp_va.shape)\n",
    "print(\"approx equal:\", torch.allclose(fp_tr.mean(0), fp_va.mean(0)))"
   ],
   "id": "b76abf0e0998eae5",
   "outputs": [],
   "execution_count": null
  },
  {
   "metadata": {},
   "cell_type": "markdown",
   "source": "### Model Training",
   "id": "620e5f1b3a63805"
  },
  {
   "metadata": {},
   "cell_type": "code",
   "source": [
    "# Training\n",
    "model = PatchMixerQuantileModel(config)\n",
    "optimizer = torch.optim.AdamW(model.parameters(), lr = 1e-3, weight_decay=1e-4)\n",
    "scheduler = torch.optim.lr_scheduler.CosineAnnealingLR(optimizer = optimizer, T_max = 10)\n",
    "\n",
    "trained_model, tr_hist, va_hist = PatchMixerTrain().base_train(\n",
    "    train_loader=train_loader,\n",
    "    val_loader=val_loader,\n",
    "    model=model,\n",
    "    point_loss = 'mae',\n",
    "    epochs= 100,\n",
    "    # 손실 기본값은 그대로 두되,\n",
    "    use_intermittent=True, # 학습에서만 밸런스 가중 + 하위 분위수 가중\n",
    "    # 검증은 내부에서 plain pinball로 자동 처리\n",
    ")\n"
   ],
   "id": "541875951d1a8fd3",
   "outputs": [],
   "execution_count": null
  },
  {
   "metadata": {},
   "cell_type": "code",
   "source": [
    "device = 'cuda' if torch.cuda.is_available() else 'cpu'\n",
    "\n",
    "xb, yb, *rest = next(iter(train_loader))\n",
    "print(\"y batch min/max:\", yb.min().item(), yb.max().item())\n",
    "\n",
    "model.eval()\n",
    "with torch.no_grad():\n",
    "    pred = model(xb.to(next(model.parameters()).device))\n",
    "pred_cpu = pred.detach().cpu()\n",
    "\n",
    "print(\"pred min/max:\", pred_cpu.min().item(), pred_cpu.max().item())\n",
    "\n",
    "xb, *rest = next(iter(anchor_loader))\n",
    "xb = xb.to(device)\n",
    "model.eval()\n",
    "with torch.no_grad():\n",
    "    raw = model(xb)  # (B,H) or (B,Q,H)\n",
    "print(\"RAW on anchor min/max:\", raw.min().item(), raw.max().item())\n",
    "\n",
    "print(model.head)  # 또는 model\n",
    "for name, m in model.named_modules():\n",
    "    if isinstance(m, (nn.Sigmoid, nn.Tanh)):\n",
    "        print(\"Found bounded activation:\", name, m)\n"
   ],
   "id": "98d10035243d6b1e",
   "outputs": [],
   "execution_count": null
  },
  {
   "metadata": {},
   "cell_type": "markdown",
   "source": "### Model Save",
   "id": "f729ab12a8bdaf08"
  },
  {
   "metadata": {},
   "cell_type": "code",
   "source": [
    "# Full Save\n",
    "torch.save({\n",
    "    'model_state': trained_model.state_dict(),\n",
    "    'optimizer_state': optimizer.state_dict(),\n",
    "    'scheduler_state': scheduler.state_dict(),\n",
    "    'config': vars(config),\n",
    "    'train_loss_hist': tr_hist,\n",
    "    'val_loss_hist': va_hist,\n",
    "}, DIR + 'fit/patch_mixer_20250919_ltb_full.pt')\n",
    "\n",
    "# only for weight\n",
    "# torch.save(train_model.state_dict(), DIR + 'patch_mixer_20250919_l54_h_27.pt')"
   ],
   "id": "4c0953972092c488",
   "outputs": [],
   "execution_count": null
  },
  {
   "metadata": {},
   "cell_type": "markdown",
   "source": "### Trained Model Recall",
   "id": "bfb865b7edb2765e"
  },
  {
   "metadata": {},
   "cell_type": "code",
   "source": [
    "# ------------------ Full Recall ------------------\n",
    "device = 'cuda' if torch.cuda.is_available() else 'cpu'\n",
    "ckpt = torch.load(DIR + 'fit/patch_mixer_20250919_ltb_full.pt', map_location=device)\n",
    "cfg = PatchMixerConfigMonthly()\n",
    "model = PatchMixerQuantileModel(cfg).to(device)\n",
    "model.load_state_dict(ckpt[\"model_state\"])\n",
    "optimizer.load_state_dict(ckpt[\"optimizer_state\"])\n",
    "scheduler.load_state_dict(ckpt[\"scheduler_state\"])\n",
    "\n",
    "# ------------------ Weight Recall ------------------\n",
    "# ckpt_path = DIR + 'patch_mixer_20250918_l36_h48.pt'\n",
    "# state = torch.load(ckpt_path, map_location=device)\n",
    "# model.load_state_dict(state)\n",
    "\n",
    "model.to(device).eval()\n"
   ],
   "id": "f0e2c32b1eda7d50",
   "outputs": [],
   "execution_count": null
  },
  {
   "metadata": {},
   "cell_type": "markdown",
   "source": [
    "## 1) 검증 세트에서 예측 + 핵심 지표 계산\n",
    "### 참고\n",
    "\n",
    "공정성을 위해 검증 시에는 가중치 없이 그대로 평가(학습 중 간헐 가중을 썼더라도).\n",
    "\n",
    "P50 커버리지(50% 구간)는 P25/P75가 없으니 대신 P10~P90(80%) 구간으로 모니터. 더 많은 분위수를 예측하도록 헤드를 늘리면 50/90% 커버리지도 바로 확인 가능."
   ],
   "id": "9e3c7ac555b214b8"
  },
  {
   "metadata": {},
   "cell_type": "code",
   "source": [
    "metrics = compute_validation_metrics_for_patchmixer(model, val_loader, device = device)\n",
    "print(\n",
    "    \"MAE={MAE:.4f} RMSE={RMSE:.4f} sMAPE={sMAPE:.4f} | \"\n",
    "    \"Pinball={Pinball(avg):.4f} | \"\n",
    "    \"COV[q]: {COV@0.1:.3f},{COV@0.5:.3f},{COV@0.9:.3f} | \"\n",
    "    \"I80(cov/wid): {Coverage@80:.3f}/{Width@80:.3f}\".format(**metrics)\n",
    ")"
   ],
   "id": "e91f192cf85ed8cf",
   "outputs": [],
   "execution_count": null
  },
  {
   "metadata": {},
   "cell_type": "markdown",
   "source": [
    "### 2) 앵커 시점(plan_yyyymm) 배치 예측\n",
    "#### (A) 간단 배치 예측 (P50만)\n",
    "#### (B) 분위수 전체 저장(P10/P50/P90)"
   ],
   "id": "1c602e5511f82dcd"
  },
  {
   "metadata": {},
   "cell_type": "code",
   "source": [
    "from model_runner.inferences.patch_mixer_inference import evaluate_PatchMixer\n",
    "preds_anchor, parts_anchor = evaluate_PatchMixer(\n",
    "    model, anchor_loader, device = device, q_use = 0.5, return_full = False\n",
    ") # preds_anchor: (B, H)\n",
    "print('(A)', preds_anchor.shape, len(parts_anchor))\n",
    "\n",
    "preds_anchor_q, parts_anchor = evaluate_PatchMixer(\n",
    "    model, anchor_loader, device = device, q_use = 0.5, return_full = True\n",
    ")\n",
    "print('(B)', preds_anchor_q)"
   ],
   "id": "c11d68004129a502",
   "outputs": [],
   "execution_count": null
  },
  {
   "metadata": {},
   "cell_type": "markdown",
   "source": [
    "### 3) Overlap-Averaging 기반 DMS 추론(안정화 포함, 옵션)\n",
    "학습 시 DMS(직접 다스텝)로 훈련된 모델이라면, 겹침 평균 + 1-step 안정화 가드로 더 매끈한 결과를 얻을 수 있음."
   ],
   "id": "2e7676998c82704e"
  },
  {
   "metadata": {},
   "cell_type": "code",
   "source": [
    "import inspect\n",
    "from model_runner.inferences.patch_mixer_inference import PatchMixer_DMSForecaster\n",
    "from tqdm import tqdm\n",
    "print(\"outer model id:\", id(model))\n",
    "print(\"outer model file:\", inspect.getfile(model.__class__))\n",
    "dms = PatchMixer_DMSForecaster(model, target_channel = 0, fill_mode = 'copy_last')\n",
    "print(\"dms.model id:\", id(dms.model))\n",
    "print(\"dms class file:\", inspect.getfile(PatchMixer_DMSForecaster))\n",
    "all_preds = []\n",
    "all_parts = []\n",
    "\n",
    "all_x_first = None\n",
    "with torch.no_grad():\n",
    "    for i, batch in enumerate(tqdm(anchor_loader)):\n",
    "        if len(batch) == 2:\n",
    "            x, part = batch\n",
    "        else:\n",
    "            x, _, part = batch\n",
    "\n",
    "        all_parts.extend(part)\n",
    "\n",
    "        if i == 0: all_x_first = x # first batch x for history graph\n",
    "        x = x.to(device)\n",
    "\n",
    "        y_hat = dms.forecast_overlap_avg(\n",
    "            x, horizon = 60,\n",
    "            q_use = 0.5, return_full = False,\n",
    "            use_winsor = True, use_multi_guard = True, use_dampen = True,\n",
    "            clip_q = (0.05, 0.95), clip_mul = 2.0, # 강도는 도메인에 맞게 수정\n",
    "            max_growth = 1.10, max_step_up = 0.10, max_step_down = 0.30,\n",
    "            damp_min = 0.2, damp_max = 0.6\n",
    "        )   # (B, H)\n",
    "        all_preds.append(y_hat.cpu())\n",
    "\n",
    "preds_anchor_dms = torch.cat(all_preds, dim = 0) # (B_total, H)"
   ],
   "id": "2247269c9d63b235",
   "outputs": [],
   "execution_count": null
  },
  {
   "metadata": {},
   "cell_type": "markdown",
   "source": "## 4) IMS(autoregressive) 추론",
   "id": "bd1425b3d2f2c6e5"
  },
  {
   "metadata": {},
   "cell_type": "code",
   "source": [
    "from model_runner.inferences.patch_mixer_inference import PatchMixer_IMSForecaster\n",
    "\n",
    "ims = PatchMixer_IMSForecaster(model, target_channel = 0, fill_mode = 'copy_last')\n",
    "model.eval()\n",
    "all_preds = []\n",
    "with torch.no_grad():\n",
    "    for batch in tqdm(anchor_loader):\n",
    "        if len(batch) == 2:\n",
    "            x, part = batch\n",
    "        else:\n",
    "            x, _, part = batch\n",
    "        x = x.to(device)\n",
    "\n",
    "        y_hat = ims.forecast(\n",
    "            x, horizon = 60,\n",
    "            q_use = 0.5, return_full = False,\n",
    "            use_winsor = True,use_dampen = True, damp = 0.5\n",
    "        )\n",
    "\n",
    "        all_preds.append(y_hat.cpu())\n",
    "\n",
    "preds_anchor_ims = torch.cat(all_preds, dim = 0)"
   ],
   "id": "39c44cfe780687d9",
   "outputs": [],
   "execution_count": null
  },
  {
   "metadata": {},
   "cell_type": "code",
   "source": [
    "from utils.plot_utils import plot_anchored_forecasts_yyyymm_multi\n",
    "\n",
    "plot_anchored_forecasts_yyyymm_multi(\n",
    "    df            = target_dyn_demand,\n",
    "    parts         = all_parts,\n",
    "    preds_dict    = {\"IMS\": preds_anchor_ims, \"DMS\": preds_anchor_dms},\n",
    "    plan_yyyymm   = plan_yyyymm,\n",
    "    lookback      = PatchMixerConfigMonthly().lookback,\n",
    "    k             = 343,\n",
    "    outdir        = \"./plots\",\n",
    "    prefix        = \"anchored_ims_vs_dms\"\n",
    ")"
   ],
   "id": "967a357bd16aa254",
   "outputs": [],
   "execution_count": null
  },
  {
   "metadata": {},
   "cell_type": "code",
   "source": "",
   "id": "8962068576fa17f2",
   "outputs": [],
   "execution_count": null
  }
 ],
 "metadata": {
  "kernelspec": {
   "display_name": "Python 3",
   "language": "python",
   "name": "python3"
  },
  "language_info": {
   "codemirror_mode": {
    "name": "ipython",
    "version": 2
   },
   "file_extension": ".py",
   "mimetype": "text/x-python",
   "name": "python",
   "nbconvert_exporter": "python",
   "pygments_lexer": "ipython2",
   "version": "2.7.6"
  }
 },
 "nbformat": 4,
 "nbformat_minor": 5
}
