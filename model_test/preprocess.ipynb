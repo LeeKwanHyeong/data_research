{
 "cells": [
  {
   "cell_type": "code",
   "id": "initial_id",
   "metadata": {
    "collapsed": true,
    "ExecuteTime": {
     "end_time": "2025-09-14T09:21:18.579249Z",
     "start_time": "2025-09-14T09:21:13.722375Z"
    }
   },
   "source": [
    "import traceback\n",
    "\n",
    "import polars as pl\n",
    "import sys\n",
    "import torch\n",
    "import polars as pl\n",
    "import numpy as np\n",
    "from sklearn.linear_model import LinearRegression\n",
    "from lifelines import WeibullFitter\n",
    "from sklearn.model_selection import train_test_split\n",
    "from torch import optim\n",
    "import torch\n",
    "import torch.nn as nn\n",
    "\n",
    "from torch.utils.data import Dataset, DataLoader\n",
    "\n",
    "from models.Titans import Model\n",
    "from utils.custom_losses import CustomLoss\n",
    "from utils.lstf_feature_maker.piecewise_linear_regression import PiecewiseLinearRegression\n",
    "from utils.lstf_feature_maker.weibull import WeibullFeatureMaker\n",
    "\n",
    "'''\n",
    "pip3 install torch torchvision torchaudio --index-url https://download.pytorch.org/whl/cu128\n",
    "https://developer.nvidia.com/cuda-12-8-0-download-archive\n",
    "'''\n",
    "\n",
    "MAC_DIR = '../data/'\n",
    "WINDOW_DIR = 'C:/Users/USER/PycharmProjects/research/data/'\n",
    "\n",
    "if sys.platform == 'win32':\n",
    "    DIR = WINDOW_DIR\n",
    "    print(torch.cuda.is_available())\n",
    "    print(torch.cuda.device_count())\n",
    "    print(torch.version.cuda)\n",
    "    print(torch.__version__)\n",
    "    print(torch.cuda.get_device_name(0))\n",
    "    print(torch.__version__)\n",
    "else:\n",
    "    DIR = MAC_DIR\n",
    "\n",
    "tb_bas_oper_part_mst = (pl.read_parquet(DIR + 'tb_bas_oper_part_mst.parquet')\n",
    "                        .select(['OPER_PART_NO', 'OPER_PART_NM'])\n",
    "                        .rename({'OPER_PART_NO': 'oper_part_no', 'OPER_PART_NM': 'oper_part_nm'}))\n",
    "tb_dyn_fcst_demand = (pl.read_parquet(DIR + 'tb_dyn_fcst_dmnd.parquet')\n",
    "                      .select(['PART_NO', 'DMND_QTY', 'DMND_DT', 'OPER_PART_NO'])\n",
    "                      .rename({'PART_NO': 'part_no', 'OPER_PART_NO': 'oper_part_no', 'DMND_DT': 'demand_dt', 'DMND_QTY': 'demand_qty'})\n",
    "                      .select(['part_no', 'oper_part_no', 'demand_dt', 'demand_qty']))\n",
    "tb_dyn_fcst_demand_sellout = (pl.read_parquet(DIR + 'tb_dyn_fcst_dmnd_sellout.parquet')\n",
    "                              .select(['PART_NO', 'DMND_QTY', 'DMND_DT', 'OPER_PART_NO'])\n",
    "                              .rename({'PART_NO': 'part_no', 'OPER_PART_NO': 'oper_part_no', 'DMND_DT': 'demand_dt', 'DMND_QTY': 'demand_qty'})\n",
    "                              .select(['part_no', 'oper_part_no', 'demand_dt', 'demand_qty']))"
   ],
   "outputs": [
    {
     "name": "stdout",
     "output_type": "stream",
     "text": [
      "True\n",
      "1\n",
      "12.8\n",
      "2.9.0.dev20250716+cu128\n",
      "NVIDIA GeForce RTX 5080\n",
      "2.9.0.dev20250716+cu128\n"
     ]
    }
   ],
   "execution_count": 1
  },
  {
   "metadata": {},
   "cell_type": "code",
   "source": [
    "from utils.date_util import DateUtil\n",
    "\n",
    "# dyn_fcst_demand = tb_dyn_fcst_demand.with_columns([\n",
    "#     pl.col('demand_dt').cast(pl.Int64).map_elements(DateUtil.yyyymmdd_to_date, return_dtype = pl.Date)\n",
    "# ])\n",
    "\n",
    "dyn_demand_sellout = tb_dyn_fcst_demand_sellout.with_columns([\n",
    "    pl.col('demand_dt').cast(pl.Int64).map_elements(DateUtil.yyyymmdd_to_date, return_dtype = pl.Date)\n",
    "])\n"
   ],
   "id": "cf77310535db016b",
   "outputs": [],
   "execution_count": null
  },
  {
   "metadata": {},
   "cell_type": "code",
   "source": [
    "# dyn_fcst = (dyn_fcst_demand\n",
    "#                 .join(tb_bas_oper_part_mst, on = 'oper_part_no', how = 'left')\n",
    "#                 .select(['oper_part_no', 'oper_part_nm', 'demand_dt','demand_qty'])\n",
    "#                 .sort(['oper_part_no', 'demand_dt'])\n",
    "#                 .with_columns([\n",
    "#                     pl.col('demand_qty').cum_sum().over('oper_part_no').alias('cumsum_qty')\n",
    "#                 ])\n",
    "#               )\n",
    "dyn_demand = (dyn_demand_sellout.join(tb_bas_oper_part_mst, on = 'oper_part_no', how = 'left')\n",
    "                    .select(['oper_part_no', 'oper_part_nm', 'demand_dt', 'demand_qty'])\n",
    "                    .sort(['oper_part_no', 'demand_dt'])\n",
    "                    .with_columns([\n",
    "                        pl.col('demand_qty').cum_sum().over('oper_part_no').alias('cumsum_qty')\n",
    "                 ])\n",
    "               )"
   ],
   "id": "778538d2f02bf91a",
   "outputs": [],
   "execution_count": null
  },
  {
   "metadata": {},
   "cell_type": "code",
   "source": [
    "(dyn_demand\n",
    "        .select(['oper_part_no', 'demand_dt', 'demand_qty', 'cumsum_qty'])\n",
    "        .sort(['oper_part_no', 'demand_dt'])\n",
    "        .with_columns(pl.col('demand_dt').map_elements(DateUtil.date_to_yyyymm, return_dtype = pl.Int64).alias('demand_dt'))\n",
    "        .select('oper_part_no', 'demand_dt', 'demand_qty')\n",
    "        .group_by(['oper_part_no', 'demand_dt'])\n",
    "        .agg(pl.col('demand_qty').sum().alias('demand_qty'))\n",
    "        .sort(['oper_part_no', 'demand_dt'])).write_parquet(DIR + 'target_dyn_demand.parquet')"
   ],
   "id": "3883a74d16157132",
   "outputs": [],
   "execution_count": null
  },
  {
   "metadata": {},
   "cell_type": "code",
   "source": "",
   "id": "96a19c141a39bb6a",
   "outputs": [],
   "execution_count": null
  }
 ],
 "metadata": {
  "kernelspec": {
   "display_name": "Python 3",
   "language": "python",
   "name": "python3"
  },
  "language_info": {
   "codemirror_mode": {
    "name": "ipython",
    "version": 2
   },
   "file_extension": ".py",
   "mimetype": "text/x-python",
   "name": "python",
   "nbconvert_exporter": "python",
   "pygments_lexer": "ipython2",
   "version": "2.7.6"
  }
 },
 "nbformat": 4,
 "nbformat_minor": 5
}
