{
 "cells": [
  {
   "cell_type": "code",
   "id": "initial_id",
   "metadata": {
    "collapsed": true,
    "ExecuteTime": {
     "end_time": "2025-09-18T18:03:38.494963Z",
     "start_time": "2025-09-18T18:03:36.311492Z"
    }
   },
   "source": [
    "import traceback\n",
    "\n",
    "import polars as pl\n",
    "import sys\n",
    "import torch\n",
    "import polars as pl\n",
    "import numpy as np\n",
    "from sklearn.linear_model import LinearRegression\n",
    "from lifelines import WeibullFitter\n",
    "from sklearn.model_selection import train_test_split\n",
    "from torch import optim\n",
    "import torch\n",
    "import torch.nn as nn\n",
    "\n",
    "from torch.utils.data import Dataset, DataLoader\n",
    "\n",
    "from models.Titans import Model\n",
    "from utils.custom_losses import CustomLoss\n",
    "from utils.lstf_feature_maker.piecewise_linear_regression import PiecewiseLinearRegression\n",
    "from utils.lstf_feature_maker.weibull import WeibullFeatureMaker\n",
    "\n",
    "'''\n",
    "pip3 install torch torchvision torchaudio --index-url https://download.pytorch.org/whl/cu128\n",
    "https://developer.nvidia.com/cuda-12-8-0-download-archive\n",
    "'''\n",
    "\n",
    "MAC_DIR = '../data/'\n",
    "WINDOW_DIR = 'C:/Users/USER/PycharmProjects/research/data/'\n",
    "\n",
    "if sys.platform == 'win32':\n",
    "    DIR = WINDOW_DIR\n",
    "    print(torch.cuda.is_available())\n",
    "    print(torch.cuda.device_count())\n",
    "    print(torch.version.cuda)\n",
    "    print(torch.__version__)\n",
    "    print(torch.cuda.get_device_name(0))\n",
    "    print(torch.__version__)\n",
    "else:\n",
    "    DIR = MAC_DIR\n",
    "\n",
    "tb_bas_oper_part_mst = (pl.read_parquet(DIR + 'tb_bas_oper_part_mst.parquet')\n",
    "                        .select(['OPER_PART_NO', 'OPER_PART_NM'])\n",
    "                        .rename({'OPER_PART_NO': 'oper_part_no', 'OPER_PART_NM': 'oper_part_nm'}))\n",
    "tb_dyn_fcst_demand = (pl.read_parquet(DIR + 'tb_dyn_fcst_dmnd.parquet')\n",
    "                      .select(['PART_NO', 'DMND_QTY', 'DMND_DT', 'OPER_PART_NO'])\n",
    "                      .rename({'PART_NO': 'part_no', 'OPER_PART_NO': 'oper_part_no', 'DMND_DT': 'demand_dt', 'DMND_QTY': 'demand_qty'})\n",
    "                      .select(['part_no', 'oper_part_no', 'demand_dt', 'demand_qty']))\n",
    "tb_dyn_fcst_demand_sellout = (pl.read_parquet(DIR + 'tb_dyn_fcst_dmnd_sellout.parquet')\n",
    "                              .select(['PART_NO', 'DMND_QTY', 'DMND_DT', 'OPER_PART_NO'])\n",
    "                              .rename({'PART_NO': 'part_no', 'OPER_PART_NO': 'oper_part_no', 'DMND_DT': 'demand_dt', 'DMND_QTY': 'demand_qty'})\n",
    "                              .select(['part_no', 'oper_part_no', 'demand_dt', 'demand_qty']))"
   ],
   "outputs": [
    {
     "name": "stdout",
     "output_type": "stream",
     "text": [
      "True\n",
      "1\n",
      "12.8\n",
      "2.9.0.dev20250716+cu128\n",
      "NVIDIA GeForce RTX 5080\n",
      "2.9.0.dev20250716+cu128\n"
     ]
    }
   ],
   "execution_count": 1
  },
  {
   "metadata": {
    "ExecuteTime": {
     "end_time": "2025-09-18T18:05:07.193520Z",
     "start_time": "2025-09-18T18:04:36.169406Z"
    }
   },
   "cell_type": "code",
   "source": [
    "from utils.date_util import DateUtil\n",
    "\n",
    "# dyn_fcst_demand = tb_dyn_fcst_demand.with_columns([\n",
    "#     pl.col('demand_dt').cast(pl.Int64).map_elements(DateUtil.yyyymmdd_to_date, return_dtype = pl.Date)\n",
    "# ])\n",
    "\n",
    "dyn_demand_sellout = tb_dyn_fcst_demand_sellout.with_columns([\n",
    "    pl.col('demand_dt').cast(pl.Int64).map_elements(DateUtil.yyyymmdd_to_date, return_dtype = pl.Date)\n",
    "])\n"
   ],
   "id": "cf77310535db016b",
   "outputs": [],
   "execution_count": 3
  },
  {
   "metadata": {},
   "cell_type": "markdown",
   "source": "### Monthly Preprocessing",
   "id": "d9d3972cfc324070"
  },
  {
   "metadata": {
    "ExecuteTime": {
     "end_time": "2025-09-18T18:05:56.484063Z",
     "start_time": "2025-09-18T18:05:53.153819Z"
    }
   },
   "cell_type": "code",
   "source": [
    "dyn_demand_monthly = (dyn_demand_sellout.join(tb_bas_oper_part_mst, on = 'oper_part_no', how = 'left')\n",
    "                    .select(['oper_part_no', 'oper_part_nm', 'demand_dt', 'demand_qty'])\n",
    "                    .sort(['oper_part_no', 'demand_dt'])\n",
    "                    .with_columns([\n",
    "                        pl.col('demand_qty').cum_sum().over('oper_part_no').alias('cumsum_qty')\n",
    "                 ])\n",
    "               )\n",
    "dyn_demand_monthly = (dyn_demand_monthly\n",
    "        .select(['oper_part_no', 'demand_dt', 'demand_qty', 'cumsum_qty'])\n",
    "        .sort(['oper_part_no', 'demand_dt'])\n",
    "        .with_columns(pl.col('demand_dt').map_elements(DateUtil.date_to_yyyymm, return_dtype = pl.Int64).alias('demand_dt'))\n",
    "        .select('oper_part_no', 'demand_dt', 'demand_qty')\n",
    "        .group_by(['oper_part_no', 'demand_dt'])\n",
    "        .agg(pl.col('demand_qty').sum().alias('demand_qty'))\n",
    "        .sort(['oper_part_no', 'demand_dt'])\n",
    "        # .write_parquet(DIR + 'target_dyn_demand_monthly.parquet')\n",
    " )"
   ],
   "id": "778538d2f02bf91a",
   "outputs": [],
   "execution_count": 7
  },
  {
   "metadata": {
    "ExecuteTime": {
     "end_time": "2025-09-19T00:27:27.693691Z",
     "start_time": "2025-09-19T00:27:27.679668Z"
    }
   },
   "cell_type": "code",
   "source": "dyn_demand_monthly.filter(pl.col('oper_part_no').is_in(['01070-51445', '01070-51470']))",
   "id": "6795aa0422e386f",
   "outputs": [
    {
     "data": {
      "text/plain": [
       "shape: (176, 3)\n",
       "┌──────────────┬───────────┬────────────┐\n",
       "│ oper_part_no ┆ demand_dt ┆ demand_qty │\n",
       "│ ---          ┆ ---       ┆ ---        │\n",
       "│ str          ┆ i64       ┆ f64        │\n",
       "╞══════════════╪═══════════╪════════════╡\n",
       "│ 01070-51445  ┆ 201801    ┆ 1328.0     │\n",
       "│ 01070-51445  ┆ 201803    ┆ 460.0      │\n",
       "│ 01070-51445  ┆ 201804    ┆ 25.0       │\n",
       "│ 01070-51445  ┆ 201805    ┆ 530.0      │\n",
       "│ 01070-51445  ┆ 201806    ┆ 470.0      │\n",
       "│ …            ┆ …         ┆ …          │\n",
       "│ 01070-51470  ┆ 202607    ┆ 25.0       │\n",
       "│ 01070-51470  ┆ 202609    ┆ 15.0       │\n",
       "│ 01070-51470  ┆ 202611    ┆ 19.0       │\n",
       "│ 01070-51470  ┆ 202612    ┆ 2.0        │\n",
       "│ 01070-51470  ┆ 202701    ┆ 10.0       │\n",
       "└──────────────┴───────────┴────────────┘"
      ],
      "text/html": [
       "<div><style>\n",
       ".dataframe > thead > tr,\n",
       ".dataframe > tbody > tr {\n",
       "  text-align: right;\n",
       "  white-space: pre-wrap;\n",
       "}\n",
       "</style>\n",
       "<small>shape: (176, 3)</small><table border=\"1\" class=\"dataframe\"><thead><tr><th>oper_part_no</th><th>demand_dt</th><th>demand_qty</th></tr><tr><td>str</td><td>i64</td><td>f64</td></tr></thead><tbody><tr><td>&quot;01070-51445&quot;</td><td>201801</td><td>1328.0</td></tr><tr><td>&quot;01070-51445&quot;</td><td>201803</td><td>460.0</td></tr><tr><td>&quot;01070-51445&quot;</td><td>201804</td><td>25.0</td></tr><tr><td>&quot;01070-51445&quot;</td><td>201805</td><td>530.0</td></tr><tr><td>&quot;01070-51445&quot;</td><td>201806</td><td>470.0</td></tr><tr><td>&hellip;</td><td>&hellip;</td><td>&hellip;</td></tr><tr><td>&quot;01070-51470&quot;</td><td>202607</td><td>25.0</td></tr><tr><td>&quot;01070-51470&quot;</td><td>202609</td><td>15.0</td></tr><tr><td>&quot;01070-51470&quot;</td><td>202611</td><td>19.0</td></tr><tr><td>&quot;01070-51470&quot;</td><td>202612</td><td>2.0</td></tr><tr><td>&quot;01070-51470&quot;</td><td>202701</td><td>10.0</td></tr></tbody></table></div>"
      ]
     },
     "execution_count": 27,
     "metadata": {},
     "output_type": "execute_result"
    }
   ],
   "execution_count": 27
  },
  {
   "metadata": {},
   "cell_type": "markdown",
   "source": "### Weekly Preprocessing",
   "id": "3c93058d889d3610"
  },
  {
   "metadata": {
    "ExecuteTime": {
     "end_time": "2025-09-18T15:39:08.274042Z",
     "start_time": "2025-09-18T15:39:07.314730Z"
    }
   },
   "cell_type": "code",
   "source": [
    "(dyn_demand_sellout\n",
    "      .join(tb_bas_oper_part_mst, on = 'oper_part_no', how = 'left')\n",
    "      .select(['oper_part_no', 'oper_part_nm', 'demand_dt', 'demand_qty'])\n",
    "      .sort(['oper_part_no', 'demand_dt'])\n",
    "      .with_columns([\n",
    "        pl.col('demand_qty').cum_sum().over('oper_part_no').alias('cumsum_qty')\n",
    "      ])\n",
    "      .select(['oper_part_no', 'demand_dt', 'demand_qty', 'cumsum_qty'])\n",
    "      .sort(['oper_part_no', 'demand_dt'])\n",
    "      .with_columns(pl.col('demand_dt').map_elements(DateUtil.date_to_yyyyww, return_dtype = pl.Int64).alias('demand_dt'))\n",
    "      .select('oper_part_no', 'demand_dt', 'demand_qty')\n",
    "      .group_by(['oper_part_no', 'demand_dt'])\n",
    "      .agg(pl.col('demand_qty').sum().alias('demand_qty'))\n",
    "      .sort(['oper_part_no', 'demand_dt'])\n",
    "      .write_parquet(DIR + 'target_dyn_demand_weekly.parquet')\n",
    " )"
   ],
   "id": "3883a74d16157132",
   "outputs": [],
   "execution_count": 5
  },
  {
   "metadata": {},
   "cell_type": "code",
   "source": "",
   "id": "96a19c141a39bb6a",
   "outputs": [],
   "execution_count": null
  }
 ],
 "metadata": {
  "kernelspec": {
   "display_name": "Python 3",
   "language": "python",
   "name": "python3"
  },
  "language_info": {
   "codemirror_mode": {
    "name": "ipython",
    "version": 2
   },
   "file_extension": ".py",
   "mimetype": "text/x-python",
   "name": "python",
   "nbconvert_exporter": "python",
   "pygments_lexer": "ipython2",
   "version": "2.7.6"
  }
 },
 "nbformat": 4,
 "nbformat_minor": 5
}
