{
 "cells": [
  {
   "cell_type": "code",
   "id": "initial_id",
   "metadata": {
    "collapsed": true,
    "ExecuteTime": {
     "end_time": "2025-09-23T13:19:19.846320Z",
     "start_time": "2025-09-23T13:19:19.828568Z"
    }
   },
   "source": [
    "import sys\n",
    "\n",
    "import polars as pl\n",
    "import torch\n",
    "from torch.optim.lr_scheduler import CosineAnnealingLR\n",
    "\n",
    "from data_loader.TimeSeriesModule import MultiPartDataModule\n",
    "from model_runner.train.titanl_train import TitanTrain\n",
    "from models.PatchMixer.common.configs import PatchMixerConfigMonthly\n",
    "from models.PatchTST.common.configs import PatchTSTConfigMonthly\n",
    "from models.Titan.Titans import LMMModel, LMMSeq2SeqModel\n",
    "import torch.nn as nn\n",
    "\n",
    "from models.Titan.common.configs import TitanConfigMonthly\n",
    "\n",
    "'''\n",
    "pip3 install torch torchvision torchaudio --index-url https://download.pytorch.org/whl/cu128\n",
    "https://developer.nvidia.com/cuda-12-8-0-download-archive\n",
    "'''\n",
    "\n",
    "MAC_DIR = '../data/'\n",
    "WINDOW_DIR = 'C:/Users/USER/PycharmProjects/research/data/'\n",
    "\n",
    "if sys.platform == 'win32':\n",
    "    DIR = WINDOW_DIR\n",
    "    print(torch.cuda.is_available())\n",
    "    print(torch.cuda.device_count())\n",
    "    print(torch.version.cuda)\n",
    "    print(torch.__version__)\n",
    "    print(torch.cuda.get_device_name(0))\n",
    "    print(torch.__version__)\n",
    "else:\n",
    "    DIR = MAC_DIR"
   ],
   "outputs": [
    {
     "name": "stdout",
     "output_type": "stream",
     "text": [
      "True\n",
      "1\n",
      "12.8\n",
      "2.9.0.dev20250716+cu128\n",
      "NVIDIA GeForce RTX 5080\n",
      "2.9.0.dev20250716+cu128\n"
     ]
    }
   ],
   "execution_count": 2
  },
  {
   "metadata": {
    "ExecuteTime": {
     "end_time": "2025-09-23T13:19:31.804881Z",
     "start_time": "2025-09-23T13:19:20.811821Z"
    }
   },
   "cell_type": "code",
   "source": [
    "\n",
    "target_dyn_demand_monthly = pl.read_parquet(DIR + 'target_dyn_demand_monthly.parquet')\n",
    "\n",
    "titan_cfg = TitanConfigMonthly()\n",
    "mixer_cfg = PatchMixerConfigMonthly()\n",
    "tst_cfg = PatchTSTConfigMonthly()\n",
    "\n",
    "data_module = MultiPartDataModule(\n",
    "    df = target_dyn_demand_monthly,\n",
    "    config = titan_cfg,\n",
    "    batch_size = 128,\n",
    "    val_ratio = 0.2,\n",
    "    is_running = False\n",
    ")\n",
    "\n",
    "plan_yyyymm = 202401\n",
    "train_loader = data_module.get_train_loader()\n",
    "val_loader = data_module.get_val_loader()\n",
    "anchor_loader = data_module.get_inference_loader_at_plan(\n",
    "    plan_dt = plan_yyyymm,\n",
    "    parts_filter = None,\n",
    "    fill_missing = 'ffill'\n",
    ")\n",
    "\n",
    "from utils.validation_utils import collect_indices\n",
    "\n",
    "fp_tr = collect_indices(train_loader)\n",
    "fp_va = collect_indices(val_loader)\n",
    "print(\"fp shapes:\", fp_tr.shape, fp_va.shape)\n",
    "print(\"approx equal:\", torch.allclose(fp_tr.mean(0), fp_va.mean(0)))"
   ],
   "id": "2e4f705dccc25d11",
   "outputs": [
    {
     "name": "stdout",
     "output_type": "stream",
     "text": [
      "fp shapes: torch.Size([87, 2]) torch.Size([22, 2])\n",
      "approx equal: False\n"
     ]
    }
   ],
   "execution_count": 3
  },
  {
   "metadata": {},
   "cell_type": "code",
   "outputs": [],
   "execution_count": null,
   "source": [
    "from torch.optim import AdamW\n",
    "\n",
    "base_lmm_model = LMMModel(titan_cfg)\n",
    "lmm_seq2seq_model = LMMSeq2SeqModel(titan_cfg)\n",
    "\n",
    "trainer = TitanTrain()\n",
    "\n",
    "models = {\n",
    "    'lmm': base_lmm_model,\n",
    "    'lmm_seq2seq': lmm_seq2seq_model,\n",
    "}\n",
    "\n",
    "trained = {}\n",
    "histories = {}\n",
    "\n",
    "for name, mdl in models.items():\n",
    "    optimizer = AdamW(mdl.parameters(), lr=1e-3, weight_decay = 1e-4)\n",
    "    scheduler = CosineAnnealingLR(optimizer, T_max = 10)\n",
    "\n",
    "    print(f\"\\n=== Training: {name} ===\")\n",
    "    trained_model, (tr_loss, val_loss) = trainer.train_model_with_tta(\n",
    "        model = mdl,\n",
    "        train_loader = train_loader,\n",
    "        val_loader = val_loader\n",
    "    )\n",
    "\n",
    "    trained[name] = trained_model\n",
    "    histories[name] = (tr_loss, val_loss)\n",
    "\n",
    "    torch.save(trained_model.state_dict(), DIR + f'fit/titan_{name}.pt')\n",
    "    print(f\"Saved: fit/titan_{name}.pt\")\n",
    "\n"
   ],
   "id": "458546fab2f1ac1b"
  }
 ],
 "metadata": {
  "kernelspec": {
   "display_name": "Python 3",
   "language": "python",
   "name": "python3"
  },
  "language_info": {
   "codemirror_mode": {
    "name": "ipython",
    "version": 2
   },
   "file_extension": ".py",
   "mimetype": "text/x-python",
   "name": "python",
   "nbconvert_exporter": "python",
   "pygments_lexer": "ipython2",
   "version": "2.7.6"
  }
 },
 "nbformat": 4,
 "nbformat_minor": 5
}
