{
 "cells": [
  {
   "cell_type": "code",
   "id": "initial_id",
   "metadata": {
    "collapsed": true,
    "ExecuteTime": {
     "end_time": "2025-09-25T02:37:23.121816Z",
     "start_time": "2025-09-25T02:37:18.250693Z"
    }
   },
   "source": [
    "import sys\n",
    "\n",
    "import polars as pl\n",
    "import torch\n",
    "\n",
    "from data_loader.TimeSeriesModule import MultiPartDataModule\n",
    "from models.PatchMixer.PatchMixer import PatchMixerModel\n",
    "from training.config import TrainingConfig\n",
    "\n",
    "'''\n",
    "pip3 install torch torchvision torchaudio --index-url https://download.pytorch.org/whl/cu128\n",
    "https://developer.nvidia.com/cuda-12-8-0-download-archive\n",
    "'''\n",
    "\n",
    "MAC_DIR = '../data/'\n",
    "WINDOW_DIR = 'C:/Users/USER/PycharmProjects/research/data/'\n",
    "\n",
    "if sys.platform == 'win32':\n",
    "    DIR = WINDOW_DIR\n",
    "    print(torch.cuda.is_available())\n",
    "    print(torch.cuda.device_count())\n",
    "    print(torch.version.cuda)\n",
    "    print(torch.__version__)\n",
    "    print(torch.cuda.get_device_name(0))\n",
    "    print(torch.__version__)\n",
    "else:\n",
    "    DIR = MAC_DIR"
   ],
   "outputs": [
    {
     "name": "stdout",
     "output_type": "stream",
     "text": [
      "True\n",
      "1\n",
      "12.8\n",
      "2.9.0.dev20250716+cu128\n",
      "NVIDIA GeForce RTX 5080\n",
      "2.9.0.dev20250716+cu128\n"
     ]
    }
   ],
   "execution_count": 1
  },
  {
   "metadata": {
    "ExecuteTime": {
     "end_time": "2025-09-25T02:37:24.021069Z",
     "start_time": "2025-09-25T02:37:23.996634Z"
    }
   },
   "cell_type": "code",
   "source": "target_dyn_demand_monthly = pl.read_parquet(DIR + 'target_dyn_demand_monthly.parquet')",
   "id": "2e4f705dccc25d11",
   "outputs": [],
   "execution_count": 2
  },
  {
   "metadata": {
    "ExecuteTime": {
     "end_time": "2025-09-25T02:37:25.005814Z",
     "start_time": "2025-09-25T02:37:24.810509Z"
    }
   },
   "cell_type": "code",
   "source": [
    "plan_yyyymm = 202305\n",
    "\n",
    "train_cfg = TrainingConfig()\n",
    "\n",
    "data_module = MultiPartDataModule(\n",
    "    target_dyn_demand_monthly,\n",
    "    train_cfg,\n",
    "    batch_size = 64,\n",
    "    val_ratio = 0.2,\n",
    "    is_running = False\n",
    ")\n",
    "train_loader = data_module.get_train_loader()\n",
    "val_loader = data_module.get_val_loader()"
   ],
   "id": "458546fab2f1ac1b",
   "outputs": [],
   "execution_count": 3
  },
  {
   "metadata": {},
   "cell_type": "code",
   "source": "",
   "id": "c5cf4896c51c94b",
   "outputs": [],
   "execution_count": null
  }
 ],
 "metadata": {
  "kernelspec": {
   "display_name": "Python 3",
   "language": "python",
   "name": "python3"
  },
  "language_info": {
   "codemirror_mode": {
    "name": "ipython",
    "version": 2
   },
   "file_extension": ".py",
   "mimetype": "text/x-python",
   "name": "python",
   "nbconvert_exporter": "python",
   "pygments_lexer": "ipython2",
   "version": "2.7.6"
  }
 },
 "nbformat": 4,
 "nbformat_minor": 5
}
