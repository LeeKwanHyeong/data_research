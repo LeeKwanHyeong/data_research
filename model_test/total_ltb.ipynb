{
 "cells": [
  {
   "cell_type": "code",
   "id": "initial_id",
   "metadata": {
    "collapsed": true,
    "ExecuteTime": {
     "end_time": "2025-09-25T14:30:23.540558Z",
     "start_time": "2025-09-25T14:30:22.177216Z"
    }
   },
   "source": [
    "import sys\n",
    "\n",
    "import polars as pl\n",
    "import torch\n",
    "\n",
    "from data_loader.TimeSeriesModule import MultiPartDataModule\n",
    "from training.config import TrainingConfig\n",
    "from training.model_trainers.total_train import run_total_train_monthly\n",
    "\n",
    "'''\n",
    "pip3 install torch torchvision torchaudio --index-url https://download.pytorch.org/whl/cu128\n",
    "https://developer.nvidia.com/cuda-12-8-0-download-archive\n",
    "'''\n",
    "\n",
    "MAC_DIR = '../data/'\n",
    "WINDOW_DIR = 'C:/Users/USER/PycharmProjects/research/data/'\n",
    "\n",
    "if sys.platform == 'win32':\n",
    "    DIR = WINDOW_DIR\n",
    "    print(torch.cuda.is_available())\n",
    "    print(torch.cuda.device_count())\n",
    "    print(torch.version.cuda)\n",
    "    print(torch.__version__)\n",
    "    print(torch.cuda.get_device_name(0))\n",
    "    print(torch.__version__)\n",
    "else:\n",
    "    DIR = MAC_DIR"
   ],
   "outputs": [
    {
     "name": "stdout",
     "output_type": "stream",
     "text": [
      "True\n",
      "1\n",
      "12.8\n",
      "2.9.0.dev20250716+cu128\n",
      "NVIDIA GeForce RTX 5080\n",
      "2.9.0.dev20250716+cu128\n"
     ]
    }
   ],
   "execution_count": 1
  },
  {
   "metadata": {
    "ExecuteTime": {
     "end_time": "2025-09-25T14:30:23.634974Z",
     "start_time": "2025-09-25T14:30:23.620027Z"
    }
   },
   "cell_type": "code",
   "source": "target_dyn_demand_monthly = pl.read_parquet(DIR + 'target_dyn_demand_monthly.parquet')",
   "id": "2e4f705dccc25d11",
   "outputs": [],
   "execution_count": 2
  },
  {
   "metadata": {
    "ExecuteTime": {
     "end_time": "2025-09-25T14:30:23.767246Z",
     "start_time": "2025-09-25T14:30:23.641209Z"
    }
   },
   "cell_type": "code",
   "source": [
    "plan_yyyymm = 202305\n",
    "\n",
    "train_cfg = TrainingConfig(\n",
    "\n",
    ")\n",
    "\n",
    "data_module = MultiPartDataModule(\n",
    "    target_dyn_demand_monthly,\n",
    "    train_cfg,\n",
    "    batch_size = 64,\n",
    "    val_ratio = 0.2,\n",
    "    is_running = False\n",
    ")\n",
    "train_loader = data_module.get_train_loader()\n",
    "val_loader = data_module.get_val_loader()"
   ],
   "id": "458546fab2f1ac1b",
   "outputs": [],
   "execution_count": 3
  },
  {
   "metadata": {
    "ExecuteTime": {
     "end_time": "2025-09-25T14:31:19.130154Z",
     "start_time": "2025-09-25T14:30:23.769623Z"
    }
   },
   "cell_type": "code",
   "source": "model_dict = run_total_train_monthly(train_loader, val_loader)",
   "id": "c5cf4896c51c94b",
   "outputs": [
    {
     "name": "stderr",
     "output_type": "stream",
     "text": [
      "C:\\Users\\USER\\python\\py312\\Lib\\site-packages\\torch\\nn\\modules\\conv.py:366: UserWarning: Using padding='same' with even kernel lengths and odd dilation may require a zero-padded copy of the input be created (Triggered internally at C:\\actions-runner\\_work\\pytorch\\pytorch\\pytorch\\aten\\src\\ATen\\native\\Convolution.cpp:1028.)\n",
      "  return F.conv1d(\n"
     ]
    },
    {
     "name": "stdout",
     "output_type": "stream",
     "text": [
      "Epoch 1/1 | LR 0.000976 | Train 55.974214 | Val 61.226010\n",
      "Epoch 1/1 | LR 0.000976 | Train 48.682474 | Val 52.566974\n",
      "Epoch 1/1 | LR 0.000976 | Train 104.060991 | Val 107.207780\n",
      "Epoch 1/1 | LR 0.000976 | Train 103.879178 | Val 107.120731\n",
      "Epoch 1/1 | LR 0.000976 | Train 101.637862 | Val 104.711689\n",
      "Epoch 1/1 | LR 0.000976 | Train 37.749557 | Val 38.718987\n"
     ]
    }
   ],
   "execution_count": 4
  },
  {
   "metadata": {
    "ExecuteTime": {
     "end_time": "2025-09-25T14:31:19.138280Z",
     "start_time": "2025-09-25T14:31:19.136028Z"
    }
   },
   "cell_type": "code",
   "source": "",
   "id": "555c368f215381c2",
   "outputs": [],
   "execution_count": null
  }
 ],
 "metadata": {
  "kernelspec": {
   "display_name": "Python 3",
   "language": "python",
   "name": "python3"
  },
  "language_info": {
   "codemirror_mode": {
    "name": "ipython",
    "version": 2
   },
   "file_extension": ".py",
   "mimetype": "text/x-python",
   "name": "python",
   "nbconvert_exporter": "python",
   "pygments_lexer": "ipython2",
   "version": "2.7.6"
  }
 },
 "nbformat": 4,
 "nbformat_minor": 5
}
