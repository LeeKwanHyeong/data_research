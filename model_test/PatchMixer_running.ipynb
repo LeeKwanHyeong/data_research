{
 "cells": [
  {
   "cell_type": "code",
   "id": "initial_id",
   "metadata": {
    "collapsed": true
   },
   "source": [
    "import sys\n",
    "\n",
    "import polars as pl\n",
    "from data_loader.TimeSeriesModule import MultiPartDataModule\n",
    "from model_runner.model_configs import PatchMixerConfigWeekly\n",
    "from model_runner.train.patchmixer_train import PatchMixerTrain\n",
    "from models.PatchMixer.PatchMixer import *\n",
    "\n",
    "'''\n",
    "pip3 install torch torchvision torchaudio --index-url https://download.pytorch.org/whl/cu128\n",
    "https://developer.nvidia.com/cuda-12-8-0-download-archive\n",
    "'''\n",
    "\n",
    "MAC_DIR = '../data/'\n",
    "WINDOW_DIR = 'C:/Users/USER/PycharmProjects/research/data/'\n",
    "\n",
    "if sys.platform == 'win32':\n",
    "    DIR = WINDOW_DIR\n",
    "    print(torch.cuda.is_available())\n",
    "    print(torch.cuda.device_count())\n",
    "    print(torch.version.cuda)\n",
    "    print(torch.__version__)\n",
    "    print(torch.cuda.get_device_name(0))\n",
    "    print(torch.__version__)\n",
    "else:\n",
    "    DIR = MAC_DIR"
   ],
   "outputs": [],
   "execution_count": null
  },
  {
   "metadata": {},
   "cell_type": "markdown",
   "source": "### Data Loader",
   "id": "3a83a5f534a7b64d"
  },
  {
   "metadata": {},
   "cell_type": "code",
   "source": [
    "target_dyn_demand_weekly = pl.read_parquet(DIR + 'target_dyn_demand_weekly.parquet')\n",
    "\n",
    "config = PatchMixerConfigWeekly()\n",
    "\n",
    "data_module = MultiPartDataModule(\n",
    "    df = target_dyn_demand_weekly,\n",
    "    config = config,\n",
    "    is_running = True,\n",
    "    batch_size = 128,\n",
    "    val_ratio = 0.2\n",
    ")\n",
    "\n",
    "plan_yyyyww = 202315\n",
    "train_loader = data_module.get_train_loader()\n",
    "val_loader = data_module.get_val_loader()\n",
    "inference_loader = data_module.get_inference_loader()\n",
    "anchor_loader = data_module.get_inference_loader_at_plan(\n",
    "    plan_dt = plan_yyyyww,\n",
    "    parts_filter=None,\n",
    "    fill_missing='ffill'\n",
    ")"
   ],
   "id": "541fa2e75510e493",
   "outputs": [],
   "execution_count": null
  },
  {
   "metadata": {},
   "cell_type": "code",
   "source": [
    "# DataModule 안에서 만든 인덱스가 있다면 활용하세요. 없으면 아래처럼 만들어서 비교:\n",
    "def collect_indices(loader, max_batches=999999):\n",
    "    idxs = []\n",
    "    seen=0\n",
    "    for b in loader:\n",
    "        # 데이터셋에서 원본 인덱스를 함께 반환하도록 구현되어 있지 않다면,\n",
    "        # 배치 단위로 해시를 만들어 임시로 비교합니다 (완벽하진 않음)\n",
    "        x = b[0]\n",
    "        idxs.append(torch.tensor([x.numel(), x.sum()]).float())  # 조잡한 지문\n",
    "        seen += 1\n",
    "        if seen>=max_batches: break\n",
    "    return torch.stack(idxs)\n",
    "\n",
    "fp_tr = collect_indices(train_loader)\n",
    "fp_va = collect_indices(val_loader)\n",
    "print(\"fp shapes:\", fp_tr.shape, fp_va.shape)\n",
    "print(\"approx equal:\", torch.allclose(fp_tr.mean(0), fp_va.mean(0)))\n"
   ],
   "id": "354ff5e812c3fc2d",
   "outputs": [],
   "execution_count": null
  },
  {
   "metadata": {},
   "cell_type": "markdown",
   "source": "### Model Training",
   "id": "62a78e99ff40dd8"
  },
  {
   "metadata": {},
   "cell_type": "code",
   "source": [
    "model = PatchMixerQuantileModel(config)\n",
    "optimizer = torch.optim.AdamW(model.parameters(), lr = 1e-3, weight_decay = 1e-4)\n",
    "scheduler = torch.optim.lr_scheduler.CosineAnnealingLR(optimizer = optimizer, T_max = 2)\n",
    "\n",
    "\n",
    "train_model, tr_hist, va_hist = PatchMixerTrain().base_train(\n",
    "    train_loader = train_loader,\n",
    "    val_loader = val_loader,\n",
    "    model = model,\n",
    "    epochs = 2\n",
    ")\n"
   ],
   "id": "7fae9c7d0f4f2caa",
   "outputs": [],
   "execution_count": null
  },
  {
   "metadata": {},
   "cell_type": "markdown",
   "source": "### Model Save",
   "id": "4be50b1635d204f2"
  },
  {
   "metadata": {},
   "cell_type": "code",
   "source": [
    "# Full Save\n",
    "torch.save({\n",
    "    'model_state': train_model.state_dict(),\n",
    "    'optimizer_state': optimizer.state_dict(),\n",
    "    'scheduler_state': scheduler.state_dict(),\n",
    "    'config': vars(config),\n",
    "    'train_loss_hist': tr_hist,\n",
    "    'val_loss_hist': va_hist,\n",
    "}, DIR + 'fit/patch_mixer_20250919_running_full.pt')\n",
    "\n",
    "# only for weight\n",
    "# torch.save(train_model.state_dict(), DIR + 'patch_mixer_20250919_l54_h_27.pt')"
   ],
   "id": "7d81c6decb2aeb40",
   "outputs": [],
   "execution_count": null
  },
  {
   "metadata": {},
   "cell_type": "markdown",
   "source": "### Trained Model Recall",
   "id": "d3b96deea5df7335"
  },
  {
   "metadata": {},
   "cell_type": "code",
   "source": [
    "# ------------------ Full Recall ------------------\n",
    "device = 'cuda' if torch.cuda.is_available() else 'cpu'\n",
    "ckpt = torch.load(DIR + 'fit/patch_mixer_20250919_running_full.pt', map_location=device)\n",
    "cfg = PatchMixerConfigWeekly()\n",
    "model = PatchMixerQuantileModel(cfg).to(device)\n",
    "model.load_state_dict(ckpt[\"model_state\"])\n",
    "optimizer.load_state_dict(ckpt[\"optimizer_state\"])\n",
    "scheduler.load_state_dict(ckpt[\"scheduler_state\"])\n",
    "model = PatchMixerQuantileModel(cfg)\n",
    "\n",
    "# ------------------ Weight Recall ------------------\n",
    "# ckpt_path = DIR + 'patch_mixer_20250918_l36_h48.pt'\n",
    "# state = torch.load(ckpt_path, map_location=device)\n",
    "# model.load_state_dict(state)\n",
    "\n",
    "model.to(device).eval()\n"
   ],
   "id": "3715f3df33dc640",
   "outputs": [],
   "execution_count": null
  },
  {
   "metadata": {},
   "cell_type": "code",
   "source": [
    "from model_runner.inferences.patch_mixer_inference import PatchMixer_DMSForecaster\n",
    "from tqdm import tqdm\n",
    "\n",
    "dms = PatchMixer_DMSForecaster(model, target_channel = 0, fill_mode = 'copy_last')\n",
    "all_preds = []\n",
    "all_parts = []\n",
    "\n",
    "all_x_first = None\n",
    "with torch.no_grad():\n",
    "    for i, batch in enumerate(tqdm(anchor_loader)):\n",
    "        if len(batch) == 2:\n",
    "            x, part = batch\n",
    "        else:\n",
    "            x, _, part = batch\n",
    "\n",
    "        all_parts.extend(part)\n",
    "\n",
    "        if i == 0: all_x_first = x # first batch x for history graph\n",
    "        x = x.to(device)\n",
    "\n",
    "        y_hat = dms.forecast_overlap_avg(\n",
    "            x, horizon = 27,\n",
    "            q_use = 0.5, return_full = False,\n",
    "            use_winsor = False, use_multi_guard = False, use_dampen = False,\n",
    "            clip_q = (0.05, 0.95), clip_mul = 2.0, # 강도는 도메인에 맞게 수정\n",
    "            max_growth = 1.10, max_step_up = 0.10, max_step_down = 0.30,\n",
    "            damp_min = 0.2, damp_max = 0.6\n",
    "        )   # (B, H)\n",
    "        all_preds.append(y_hat.cpu())\n",
    "\n",
    "preds_anchor_dms = torch.cat(all_preds, dim = 0) # (B_total, H)"
   ],
   "id": "737f5ed7c4b3cecc",
   "outputs": [],
   "execution_count": null
  },
  {
   "metadata": {},
   "cell_type": "code",
   "source": [
    "from model_runner.inferences.patch_mixer_inference import PatchMixer_IMSForecaster\n",
    "\n",
    "ims = PatchMixer_IMSForecaster(model, target_channel = 0, fill_mode = 'copy_last')\n",
    "model.eval()\n",
    "all_preds = []\n",
    "with torch.no_grad():\n",
    "    for batch in tqdm(anchor_loader):\n",
    "        if len(batch) == 2:\n",
    "            x, part = batch\n",
    "        else:\n",
    "            x, _, part = batch\n",
    "        x = x.to(device)\n",
    "\n",
    "        y_hat = ims.forecast(\n",
    "            x, horizon = 27,\n",
    "            q_use = 0.5, return_full = False,\n",
    "            use_winsor = False,use_dampen = False, damp = 0.5\n",
    "        )\n",
    "\n",
    "        all_preds.append(y_hat.cpu())\n",
    "\n",
    "preds_anchor_ims = torch.cat(all_preds, dim = 0)"
   ],
   "id": "934facf7036c32d",
   "outputs": [],
   "execution_count": null
  },
  {
   "metadata": {},
   "cell_type": "code",
   "source": [
    "from utils.plot_utils import plot_anchored_forecasts_yyyyww_multi\n",
    "\n",
    "plot_anchored_forecasts_yyyyww_multi(\n",
    "    df            = target_dyn_demand_weekly,\n",
    "    parts         = all_parts,  # ← 여기서 사용!\n",
    "    preds_dict    = {\"IMS\": preds_anchor_ims, \"DMS\": preds_anchor_dms},\n",
    "    plan_yyyyww   = plan_yyyyww,\n",
    "    lookback      = PatchMixerConfigMonthly().lookback,\n",
    "    k             = 343,\n",
    "    outdir        = \"./plots\",\n",
    "    prefix        = \"anchored_ims_vs_dms\"\n",
    ")"
   ],
   "id": "5a53f6b178d370df",
   "outputs": [],
   "execution_count": null
  },
  {
   "metadata": {},
   "cell_type": "code",
   "source": "",
   "id": "3e172ad88db9e342",
   "outputs": [],
   "execution_count": null
  }
 ],
 "metadata": {
  "kernelspec": {
   "display_name": "Python 3",
   "language": "python",
   "name": "python3"
  },
  "language_info": {
   "codemirror_mode": {
    "name": "ipython",
    "version": 2
   },
   "file_extension": ".py",
   "mimetype": "text/x-python",
   "name": "python",
   "nbconvert_exporter": "python",
   "pygments_lexer": "ipython2",
   "version": "2.7.6"
  }
 },
 "nbformat": 4,
 "nbformat_minor": 5
}
