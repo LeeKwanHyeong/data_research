{
 "cells": [
  {
   "cell_type": "code",
   "id": "initial_id",
   "metadata": {
    "collapsed": true,
    "ExecuteTime": {
     "end_time": "2025-09-14T00:32:04.569088Z",
     "start_time": "2025-09-14T00:32:00.332014Z"
    }
   },
   "source": [
    "import sys\n",
    "\n",
    "import polars as pl\n",
    "import torch\n",
    "from data_loader.TimeSeriesModule import MultiPartDataModule\n",
    "from models.Titans import TitanConfig, LMMModel\n",
    "from model_runner.model_train import TitanTrain\n",
    "\n",
    "'''\n",
    "pip3 install torch torchvision torchaudio --index-url https://download.pytorch.org/whl/cu128\n",
    "https://developer.nvidia.com/cuda-12-8-0-download-archive\n",
    "'''\n",
    "\n",
    "MAC_DIR = '../data/'\n",
    "WINDOW_DIR = 'C:/Users/USER/PycharmProjects/research/data/'\n",
    "\n",
    "if sys.platform == 'win32':\n",
    "    DIR = WINDOW_DIR\n",
    "    print(torch.cuda.is_available())\n",
    "    print(torch.cuda.device_count())\n",
    "    print(torch.version.cuda)\n",
    "    print(torch.__version__)\n",
    "    print(torch.cuda.get_device_name(0))\n",
    "    print(torch.__version__)\n",
    "else:\n",
    "    DIR = MAC_DIR"
   ],
   "outputs": [
    {
     "name": "stdout",
     "output_type": "stream",
     "text": [
      "True\n",
      "1\n",
      "12.8\n",
      "2.9.0.dev20250716+cu128\n",
      "NVIDIA GeForce RTX 5080\n",
      "2.9.0.dev20250716+cu128\n"
     ]
    }
   ],
   "execution_count": 1
  },
  {
   "metadata": {},
   "cell_type": "code",
   "source": [
    "target_dyn_demand = pl.read_parquet(DIR + 'target_dyn_demand.parquet')\n",
    "\n",
    "data_module = MultiPartDataModule(\n",
    "    df = target_dyn_demand,\n",
    "    config = TitanConfig(),\n",
    "    batch_size = 128,\n",
    "    val_ratio = 0.2\n",
    ")\n",
    "\n",
    "train_loader = data_module.get_train_loader()\n",
    "val_loader = data_module.get_val_loader()\n",
    "inference_loader = data_module.get_inference_loader()\n",
    "\n",
    "model = LMMModel()\n",
    "\n",
    "train_with_tta = TitanTrain().train_model_with_tta(\n",
    "    model = model,\n",
    "    train_loader = train_loader,\n",
    "    val_loader = val_loader\n",
    ")\n"
   ],
   "id": "be0c3f54d441916",
   "outputs": [],
   "execution_count": null
  },
  {
   "metadata": {},
   "cell_type": "code",
   "source": "torch.save(model.state_dict(), DIR + 'titan_tta_20250912_l12_h_60.pt')",
   "id": "a29826d56ff2bd4c",
   "outputs": [],
   "execution_count": null
  },
  {
   "metadata": {},
   "cell_type": "code",
   "source": [
    "preds, trues = TitanTrain().evaluate(\n",
    "    model = model,\n",
    "    loader = inference_loader,\n",
    "    device = 'cuda' if torch.cuda.is_available() else 'cpu'\n",
    ")"
   ],
   "id": "bc26e6aba70ce8c6",
   "outputs": [],
   "execution_count": null
  },
  {
   "metadata": {},
   "cell_type": "code",
   "source": "",
   "id": "3d461cb0ece1b64d",
   "outputs": [],
   "execution_count": null
  }
 ],
 "metadata": {
  "kernelspec": {
   "display_name": "Python 3",
   "language": "python",
   "name": "python3"
  },
  "language_info": {
   "codemirror_mode": {
    "name": "ipython",
    "version": 2
   },
   "file_extension": ".py",
   "mimetype": "text/x-python",
   "name": "python",
   "nbconvert_exporter": "python",
   "pygments_lexer": "ipython2",
   "version": "2.7.6"
  }
 },
 "nbformat": 4,
 "nbformat_minor": 5
}
